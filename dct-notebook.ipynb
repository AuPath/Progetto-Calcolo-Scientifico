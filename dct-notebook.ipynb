{
 "cells": [
  {
   "cell_type": "markdown",
   "source": [
    "## IMPLEMENTAZIONE DCT"
   ],
   "metadata": {
    "collapsed": false,
    "pycharm": {
     "name": "#%% md\n"
    }
   }
  },
  {
   "cell_type": "code",
   "execution_count": 1,
   "outputs": [],
   "source": [
    "def dct2_personal(a):\n",
    "    n = len(a)  # rows\n",
    "    m = len(a[0])  # columns\n",
    "    c = np.zeros((n, m))  # result matrix\n",
    "    # dct by rows\n",
    "    for i in range(n):\n",
    "        c[i] = dct_personal(a[i])  # i-th row\n",
    "    # dct by columns\n",
    "    for j in range(m):\n",
    "        c[:, j] = dct_personal(c[:, j])\n",
    "\n",
    "    return c\n",
    "\n",
    "def dct_personal(v):\n",
    "    n = len(v)\n",
    "    c = np.zeros(n)\n",
    "    for k in range(n):\n",
    "        if k == 0:\n",
    "            alpha = n\n",
    "        else:\n",
    "            alpha = n / 2\n",
    "        sum = 0\n",
    "        for i in range(n):\n",
    "            sum = sum + v[i] * math.cos(k * math.pi * ((2 * i + 1) / (2 * n)))\n",
    "        c[k] = (1 / math.sqrt(alpha)) * sum\n",
    "\n",
    "    return c"
   ],
   "metadata": {
    "collapsed": false,
    "pycharm": {
     "name": "#%%\n"
    }
   }
  },
  {
   "cell_type": "code",
   "execution_count": null,
   "outputs": [],
   "source": [
    "def my_dct_personal(v):\n",
    "    n = len(v)\n",
    "    c = np.zeros(n)\n",
    "    for k in range(n):\n",
    "        alpha = 0 if k==0 else n/2\n",
    "        c_list = map(lambda i: math.cos(k * math.pi * ((2 * i + 1) / (2 * n))), v)\n",
    "        c[k] = (1 / math.sqrt(alpha)) * sum(c_list)\n",
    "    return c"
   ],
   "metadata": {
    "collapsed": false,
    "pycharm": {
     "name": "#%%\n"
    }
   }
  },
  {
   "cell_type": "markdown",
   "source": [
    "## CALCOLI"
   ],
   "metadata": {
    "collapsed": false,
    "pycharm": {
     "name": "#%% md\n"
    }
   },
   "outputs": [
    {
     "ename": "KeyboardInterrupt",
     "evalue": "",
     "output_type": "error",
     "traceback": [
      "\u001B[1;31m---------------------------------------------------------------------------\u001B[0m",
      "\u001B[1;31mKeyboardInterrupt\u001B[0m                         Traceback (most recent call last)",
      "\u001B[1;32m<ipython-input-7-f76494b89e36>\u001B[0m in \u001B[0;36m<module>\u001B[1;34m\u001B[0m\n\u001B[0;32m     21\u001B[0m \u001B[1;33m\u001B[0m\u001B[0m\n\u001B[0;32m     22\u001B[0m     \u001B[0mmy_ti\u001B[0m \u001B[1;33m=\u001B[0m \u001B[0mtime\u001B[0m\u001B[1;33m.\u001B[0m\u001B[0mtime\u001B[0m\u001B[1;33m(\u001B[0m\u001B[1;33m)\u001B[0m\u001B[1;33m\u001B[0m\u001B[1;33m\u001B[0m\u001B[0m\n\u001B[1;32m---> 23\u001B[1;33m     \u001B[0mmy_dct\u001B[0m \u001B[1;33m=\u001B[0m \u001B[0mdct2_personal\u001B[0m\u001B[1;33m(\u001B[0m\u001B[0ma\u001B[0m\u001B[1;33m)\u001B[0m\u001B[1;33m\u001B[0m\u001B[1;33m\u001B[0m\u001B[0m\n\u001B[0m\u001B[0;32m     24\u001B[0m     \u001B[0mmy_tf\u001B[0m \u001B[1;33m=\u001B[0m \u001B[0mtime\u001B[0m\u001B[1;33m.\u001B[0m\u001B[0mtime\u001B[0m\u001B[1;33m(\u001B[0m\u001B[1;33m)\u001B[0m\u001B[1;33m\u001B[0m\u001B[1;33m\u001B[0m\u001B[0m\n\u001B[0;32m     25\u001B[0m     \u001B[0mmy_times\u001B[0m\u001B[1;33m.\u001B[0m\u001B[0mappend\u001B[0m\u001B[1;33m(\u001B[0m\u001B[0mmy_ti\u001B[0m \u001B[1;33m-\u001B[0m \u001B[0mmy_tf\u001B[0m\u001B[1;33m)\u001B[0m\u001B[1;33m\u001B[0m\u001B[1;33m\u001B[0m\u001B[0m\n",
      "\u001B[1;32m<ipython-input-4-2858278cfef1>\u001B[0m in \u001B[0;36mdct2_personal\u001B[1;34m(a)\u001B[0m\n\u001B[0;32m      8\u001B[0m     \u001B[1;31m# dct by columns\u001B[0m\u001B[1;33m\u001B[0m\u001B[1;33m\u001B[0m\u001B[1;33m\u001B[0m\u001B[0m\n\u001B[0;32m      9\u001B[0m     \u001B[1;32mfor\u001B[0m \u001B[0mj\u001B[0m \u001B[1;32min\u001B[0m \u001B[0mrange\u001B[0m\u001B[1;33m(\u001B[0m\u001B[0mm\u001B[0m\u001B[1;33m)\u001B[0m\u001B[1;33m:\u001B[0m\u001B[1;33m\u001B[0m\u001B[1;33m\u001B[0m\u001B[0m\n\u001B[1;32m---> 10\u001B[1;33m         \u001B[0mc\u001B[0m\u001B[1;33m[\u001B[0m\u001B[1;33m:\u001B[0m\u001B[1;33m,\u001B[0m \u001B[0mj\u001B[0m\u001B[1;33m]\u001B[0m \u001B[1;33m=\u001B[0m \u001B[0mdct_personal\u001B[0m\u001B[1;33m(\u001B[0m\u001B[0mc\u001B[0m\u001B[1;33m[\u001B[0m\u001B[1;33m:\u001B[0m\u001B[1;33m,\u001B[0m \u001B[0mj\u001B[0m\u001B[1;33m]\u001B[0m\u001B[1;33m)\u001B[0m\u001B[1;33m\u001B[0m\u001B[1;33m\u001B[0m\u001B[0m\n\u001B[0m\u001B[0;32m     11\u001B[0m \u001B[1;33m\u001B[0m\u001B[0m\n\u001B[0;32m     12\u001B[0m     \u001B[1;32mreturn\u001B[0m \u001B[0mc\u001B[0m\u001B[1;33m\u001B[0m\u001B[1;33m\u001B[0m\u001B[0m\n",
      "\u001B[1;32m<ipython-input-5-b934f15fee57>\u001B[0m in \u001B[0;36mdct_personal\u001B[1;34m(v)\u001B[0m\n\u001B[0;32m      9\u001B[0m         \u001B[0msum\u001B[0m \u001B[1;33m=\u001B[0m \u001B[1;36m0\u001B[0m\u001B[1;33m\u001B[0m\u001B[1;33m\u001B[0m\u001B[0m\n\u001B[0;32m     10\u001B[0m         \u001B[1;32mfor\u001B[0m \u001B[0mi\u001B[0m \u001B[1;32min\u001B[0m \u001B[0mrange\u001B[0m\u001B[1;33m(\u001B[0m\u001B[0mn\u001B[0m\u001B[1;33m)\u001B[0m\u001B[1;33m:\u001B[0m\u001B[1;33m\u001B[0m\u001B[1;33m\u001B[0m\u001B[0m\n\u001B[1;32m---> 11\u001B[1;33m             \u001B[0msum\u001B[0m \u001B[1;33m=\u001B[0m \u001B[0msum\u001B[0m \u001B[1;33m+\u001B[0m \u001B[0mv\u001B[0m\u001B[1;33m[\u001B[0m\u001B[0mi\u001B[0m\u001B[1;33m]\u001B[0m \u001B[1;33m*\u001B[0m \u001B[0mmath\u001B[0m\u001B[1;33m.\u001B[0m\u001B[0mcos\u001B[0m\u001B[1;33m(\u001B[0m\u001B[0mk\u001B[0m \u001B[1;33m*\u001B[0m \u001B[0mmath\u001B[0m\u001B[1;33m.\u001B[0m\u001B[0mpi\u001B[0m \u001B[1;33m*\u001B[0m \u001B[1;33m(\u001B[0m\u001B[1;33m(\u001B[0m\u001B[1;36m2\u001B[0m \u001B[1;33m*\u001B[0m \u001B[0mi\u001B[0m \u001B[1;33m+\u001B[0m \u001B[1;36m1\u001B[0m\u001B[1;33m)\u001B[0m \u001B[1;33m/\u001B[0m \u001B[1;33m(\u001B[0m\u001B[1;36m2\u001B[0m \u001B[1;33m*\u001B[0m \u001B[0mn\u001B[0m\u001B[1;33m)\u001B[0m\u001B[1;33m)\u001B[0m\u001B[1;33m)\u001B[0m\u001B[1;33m\u001B[0m\u001B[1;33m\u001B[0m\u001B[0m\n\u001B[0m\u001B[0;32m     12\u001B[0m         \u001B[0mc\u001B[0m\u001B[1;33m[\u001B[0m\u001B[0mk\u001B[0m\u001B[1;33m]\u001B[0m \u001B[1;33m=\u001B[0m \u001B[1;33m(\u001B[0m\u001B[1;36m1\u001B[0m \u001B[1;33m/\u001B[0m \u001B[0mmath\u001B[0m\u001B[1;33m.\u001B[0m\u001B[0msqrt\u001B[0m\u001B[1;33m(\u001B[0m\u001B[0malpha\u001B[0m\u001B[1;33m)\u001B[0m\u001B[1;33m)\u001B[0m \u001B[1;33m*\u001B[0m \u001B[0msum\u001B[0m\u001B[1;33m\u001B[0m\u001B[1;33m\u001B[0m\u001B[0m\n\u001B[0;32m     13\u001B[0m \u001B[1;33m\u001B[0m\u001B[0m\n",
      "\u001B[1;31mKeyboardInterrupt\u001B[0m: "
     ]
    }
   ],
   "execution_count": null
  },
  {
   "cell_type": "code",
   "execution_count": 11,
   "outputs": [],
   "source": [
    "import numpy as np\n",
    "from scipy.fft import dct\n",
    "import time\n",
    "import math\n",
    "\n",
    "lib_times = []\n",
    "my_times = []\n",
    "dims = []\n",
    "\n",
    "for i in range(1,10):\n",
    "    N = 2**i\n",
    "    dims.append(N)\n",
    "    a = np.random.rand(N,N)\n",
    "\n",
    "    lib_ti = time.time()\n",
    "    lib_dct = dct(dct(a, axis=1, norm=\"ortho\"), axis=0, norm=\"ortho\")\n",
    "    lib_tf = time.time()\n",
    "    lib_times.append(lib_tf - lib_ti)\n",
    "\n",
    "    my_ti = time.time()\n",
    "    my_dct = dct2_personal(a)\n",
    "    my_tf = time.time()\n",
    "    my_times.append(my_tf - my_ti)"
   ],
   "metadata": {
    "collapsed": false,
    "pycharm": {
     "name": "#%%\n"
    }
   }
  },
  {
   "cell_type": "markdown",
   "source": [
    "## PLOT"
   ],
   "metadata": {
    "collapsed": false,
    "pycharm": {
     "name": "#%% md\n"
    }
   }
  },
  {
   "cell_type": "code",
   "execution_count": 27,
   "outputs": [
    {
     "data": {
      "text/plain": "[None]"
     },
     "execution_count": 27,
     "metadata": {},
     "output_type": "execute_result"
    },
    {
     "data": {
      "text/plain": "<Figure size 432x288 with 1 Axes>",
      "image/png": "[encoded data removed]"
     },
     "metadata": {},
     "output_type": "display_data"
    }
   ],
   "source": [
    "import pandas as pd\n",
    "import seaborn as sns\n",
    "import matplotlib.pyplot as plt\n",
    "import matplotlib.patches as mpatches\n",
    "\n",
    "sns.set_theme(style=\"darkgrid\")\n",
    "\n",
    "data = pd.DataFrame(list(zip(lib_times, my_times)), columns=['Scipy FFT','HomeMade DCT'])\n",
    "\n",
    "g = sns.lineplot(data=data)\n",
    "g.set(yscale='log')"
   ],
   "metadata": {
    "collapsed": false,
    "pycharm": {
     "name": "#%%\n"
    }
   }
  },
  {
   "cell_type": "markdown",
   "source": [
    "## CASO DI TEST"
   ],
   "metadata": {
    "collapsed": false,
    "pycharm": {
     "name": "#%% md\n"
    }
   }
  },
  {
   "cell_type": "code",
   "execution_count": 2,
   "outputs": [],
   "source": [
    "'''\n",
    "import math\n",
    "import numpy as np\n",
    "from numpy import random\n",
    "from scipy.fft import dct\n",
    "import time\n",
    "\n",
    "# TEST CASE\n",
    "a = np.array([[231, 32, 233, 161, 24, 71, 140, 245],\n",
    "              [247, 40, 248, 245, 124, 204, 36, 107],\n",
    "              [234, 202, 245, 167, 9, 217, 239, 173],\n",
    "              [193, 190, 100, 167, 43, 180, 8, 70],\n",
    "              [11, 24, 210, 177, 81, 243, 8, 112],\n",
    "              [97, 195, 203, 47, 125, 114, 165, 181],\n",
    "              [193, 70, 174, 167, 41, 30, 127, 245],\n",
    "              [87, 149, 57, 192, 65, 129, 178, 228]])\n",
    "\n",
    "lib_ti = time.time()\n",
    "lib_dct = dct(dct(a, axis=1, norm=\"ortho\"), axis=0, norm=\"ortho\")\n",
    "lib_tf = time.time()\n",
    "lib_t_diff = lib_tf - lib_ti\n",
    "\n",
    "my_ti = time.time()\n",
    "my_dct = dct2_personal(a)\n",
    "my_tf = time.time()\n",
    "my_t_diff = my_tf - my_ti\n",
    "'''"
   ],
   "metadata": {
    "collapsed": false,
    "pycharm": {
     "name": "#%%\n"
    }
   }
  }
 ],
 "metadata": {
  "kernelspec": {
   "display_name": "Python 3",
   "language": "python",
   "name": "python3"
  },
  "language_info": {
   "codemirror_mode": {
    "name": "ipython",
    "version": 2
   },
   "file_extension": ".py",
   "mimetype": "text/x-python",
   "name": "python",
   "nbconvert_exporter": "python",
   "pygments_lexer": "ipython2",
   "version": "2.7.6"
  }
 },
 "nbformat": 4,
 "nbformat_minor": 0
}