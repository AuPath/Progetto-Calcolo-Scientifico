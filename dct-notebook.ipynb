{
 "cells": [
  {
   "cell_type": "code",
   "execution_count": 49,
   "outputs": [],
   "source": [
    "def dct2_personal(a):\n",
    "    n = len(a)  # rows\n",
    "    m = len(a[0])  # columns\n",
    "    c = np.zeros((n, m))  # result matrix\n",
    "    # dct by rows\n",
    "    for i in range(n):\n",
    "        c[i] = dct_personal(a[i])  # i-th row\n",
    "    # dct by columns\n",
    "    for j in range(m):\n",
    "        c[:, j] = dct_personal(c[:, j])\n",
    "\n",
    "    return c"
   ],
   "metadata": {
    "collapsed": false,
    "pycharm": {
     "name": "#%%\n"
    }
   }
  },
  {
   "cell_type": "code",
   "execution_count": 50,
   "outputs": [],
   "source": [
    "def dct_personal(v):\n",
    "    n = len(v)\n",
    "    c = np.zeros(n)\n",
    "    for k in range(n):\n",
    "        if k == 0:\n",
    "            alpha = n\n",
    "        else:\n",
    "            alpha = n / 2\n",
    "        sum = 0\n",
    "        for i in range(n):\n",
    "            sum = sum + v[i] * math.cos(k * math.pi * ((2 * i + 1) / (2 * n)))\n",
    "        c[k] = (1 / math.sqrt(alpha)) * sum\n",
    "\n",
    "    return c"
   ],
   "metadata": {
    "collapsed": false,
    "pycharm": {
     "name": "#%%\n"
    }
   }
  },
  {
   "cell_type": "code",
   "execution_count": 51,
   "outputs": [],
   "source": [
    "def my_dct_personal(v):\n",
    "    n = len(v)\n",
    "    c = np.zeros(n)\n",
    "    for k in range(n):\n",
    "        alpha = 0 if k==0 else n/2\n",
    "        c_list = map(lambda i: math.cos(k * math.pi * ((2 * i + 1) / (2 * n))), v)\n",
    "        c[k] = (1 / math.sqrt(alpha)) * sum(c_list)\n",
    "    return c\n"
   ],
   "metadata": {
    "collapsed": false,
    "pycharm": {
     "name": "#%%\n"
    }
   }
  },
  {
   "cell_type": "code",
   "execution_count": 52,
   "outputs": [],
   "source": [
    "import math\n",
    "\n",
    "import numpy as np\n",
    "from numpy import random\n",
    "from scipy.fft import dct, fft2\n",
    "\n",
    "a = np.array([[231, 32, 233, 161, 24, 71, 140, 245],\n",
    "              [247, 40, 248, 245, 124, 204, 36, 107],\n",
    "              [234, 202, 245, 167, 9, 217, 239, 173],\n",
    "              [193, 190, 100, 167, 43, 180, 8, 70],\n",
    "              [11, 24, 210, 177, 81, 243, 8, 112],\n",
    "              [97, 195, 203, 47, 125, 114, 165, 181],\n",
    "              [193, 70, 174, 167, 41, 30, 127, 245],\n",
    "              [87, 149, 57, 192, 65, 129, 178, 228]])\n",
    "\n",
    "# giusta!\n",
    "b = dct(a, axis=1, norm=\"ortho\")\n",
    "e = dct(b, axis=0, norm=\"ortho\")\n",
    "\n",
    "#dct_scipy = np.fft.rfft2(a, norm=\"ortho\")\n",
    "#my_dct = dct2_personal(a)"
   ],
   "metadata": {
    "collapsed": false,
    "pycharm": {
     "name": "#%%\n"
    }
   }
  },
  {
   "cell_type": "code",
   "source": [
    "my = dct_personal(a[0])"
   ],
   "metadata": {
    "collapsed": false,
    "pycharm": {
     "name": "#%%\n"
    }
   },
   "execution_count": 53,
   "outputs": []
  },
  {
   "cell_type": "code",
   "execution_count": 54,
   "outputs": [
    {
     "data": {
      "text/plain": "array([ 401.9902051 ,    6.60001991,  109.16736544, -112.78557857,\n         65.40737726,  121.83139804,  116.65648855,   28.80040722])"
     },
     "execution_count": 54,
     "metadata": {},
     "output_type": "execute_result"
    }
   ],
   "source": [
    "my"
   ],
   "metadata": {
    "collapsed": false,
    "pycharm": {
     "name": "#%%\n"
    }
   }
  },
  {
   "cell_type": "code",
   "execution_count": null,
   "outputs": [],
   "source": [],
   "metadata": {
    "collapsed": false,
    "pycharm": {
     "name": "#%%\n"
    }
   }
  }
 ],
 "metadata": {
  "kernelspec": {
   "display_name": "Python 3",
   "language": "python",
   "name": "python3"
  },
  "language_info": {
   "codemirror_mode": {
    "name": "ipython",
    "version": 2
   },
   "file_extension": ".py",
   "mimetype": "text/x-python",
   "name": "python",
   "nbconvert_exporter": "python",
   "pygments_lexer": "ipython2",
   "version": "2.7.6"
  }
 },
 "nbformat": 4,
 "nbformat_minor": 0
}