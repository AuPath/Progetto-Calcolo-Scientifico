{
 "cells": [
  {
   "cell_type": "code",
   "execution_count": 96,
   "metadata": {
    "collapsed": true
   },
   "outputs": [],
   "source": [
    "import os\n",
    "from os.path import isfile, join\n",
    "import pandas as pd\n",
    "import seaborn as sns"
   ]
  },
  {
   "cell_type": "code",
   "execution_count": 75,
   "outputs": [
    {
     "data": {
      "text/plain": "['windows-ns3Da-python-2.txt',\n 'linux-GT01R-python-1.txt',\n 'windows-ns3Da-python-1.txt',\n 'linux-GT01R-python-2.txt',\n 'linux-GT01R-octave-2.txt',\n 'windows-ns3Da-octave-1.txt',\n 'linux-GT01R-octave-1.txt',\n 'windows-ns3Da-octave-2.txt',\n 'linux-TSC_OPF_1047-octave-2.txt',\n 'linux-TSC_OPF_1047-octave-1.txt',\n 'linux-TSC_OPF_1047-python-1.txt',\n 'linux-TSC_OPF_1047-python-2.txt',\n 'windows-TSC_OPF_1047-octave-2.txt',\n 'windows-TSC_OPF_1047-octave-1.txt',\n 'windows-TSC_OPF_1047-python-1.txt',\n 'windows-TSC_OPF_1047-python-2.txt',\n 'windows-GT01R-octave-1.txt',\n 'linux-ns3Da-octave-2.txt',\n 'windows-GT01R-octave-2.txt',\n 'linux-ns3Da-octave-1.txt',\n 'linux-ns3Da-python-1.txt',\n 'windows-GT01R-python-2.txt',\n 'linux-ns3Da-python-2.txt',\n 'windows-GT01R-python-1.txt']"
     },
     "execution_count": 75,
     "metadata": {},
     "output_type": "execute_result"
    }
   ],
   "source": [
    "OUTPUT_DIR = 'out'\n",
    "reports = [f for f in os.listdir(OUTPUT_DIR) if isfile(join(OUTPUT_DIR, f)) and f[0] != '.']\n",
    "reports"
   ],
   "metadata": {
    "collapsed": false,
    "pycharm": {
     "name": "#%%\n"
    }
   }
  },
  {
   "cell_type": "code",
   "execution_count": 113,
   "outputs": [
    {
     "data": {
      "text/plain": "          matrix       os  script  run       size      nnz         error  \\\n0          GT01R    linux  octave    1   63680400   430909  4.430250e-15   \n1          GT01R    linux  octave    2   63680400   430909  4.430250e-15   \n2          GT01R    linux  python    1       7980   430909  8.200859e-13   \n3          GT01R    linux  python    2       7980   430909  8.200859e-13   \n4          GT01R  windows  octave    1   63680400   430909  4.430250e-15   \n5          GT01R  windows  octave    2   63680400   430909  4.430250e-15   \n6          GT01R  windows  python    1       7980   430909  8.200859e-13   \n7          GT01R  windows  python    2       7980   430909  8.200859e-13   \n8   TSC_OPF_1047    linux  octave    1   66259600  2012833  5.071850e-12   \n9   TSC_OPF_1047    linux  octave    2   66259600  2012833  5.071850e-12   \n10  TSC_OPF_1047    linux  python    1       8140  2012833  1.223370e-11   \n11  TSC_OPF_1047    linux  python    2       8140  2012833  1.223370e-11   \n12  TSC_OPF_1047  windows  octave    1   66259600  2012833  5.071850e-12   \n13  TSC_OPF_1047  windows  octave    2   66259600  2012833  5.071850e-12   \n14  TSC_OPF_1047  windows  python    1       8140  2012833  1.223370e-11   \n15  TSC_OPF_1047  windows  python    2       8140  2012833  1.223370e-11   \n16         ns3Da    linux  octave    1  416731396  1679599  9.878790e-16   \n17         ns3Da    linux  octave    2  416731396  1679599  9.878790e-16   \n18         ns3Da    linux  python    1      20414  1679599  8.085978e-15   \n19         ns3Da    linux  python    2      20414  1679599  8.085978e-15   \n20         ns3Da  windows  octave    1  416731396  1679599  9.878790e-16   \n21         ns3Da  windows  octave    2  416731396  1679599  9.878790e-16   \n22         ns3Da  windows  python    1      20414  1679599  8.085978e-15   \n23         ns3Da  windows  python    2      20414  1679599  8.085978e-15   \n\n        time  mem_peak  mem_avg  \n0   0.715639  238576.0      0.0  \n1   0.772768  223000.0      0.0  \n2   1.258672  130228.0      0.0  \n3   1.307804  129996.0      0.0  \n4   0.715639  238576.0      0.0  \n5   0.772768  223000.0      0.0  \n6   1.258672  130228.0      0.0  \n7   1.307804  129996.0      0.0  \n8   1.047590  345016.0      0.0  \n9   1.036870  344904.0      0.0  \n10  1.732950  173108.0      0.0  \n11  1.775999  173136.0      0.0  \n12  1.047590  345016.0      0.0  \n13  1.036870  344904.0      0.0  \n14  1.732950  173108.0      0.0  \n15  1.775999  173136.0      0.0  \n16  1.496800  365988.0      0.0  \n17  1.647940  365952.0      0.0  \n18  9.164109  407248.0      0.0  \n19  9.393556  407328.0      0.0  \n20  1.496800  365988.0      0.0  \n21  1.647940  365952.0      0.0  \n22  9.164109  407248.0      0.0  \n23  9.393556  407328.0      0.0  ",
      "text/html": "<div>\n<style scoped>\n    .dataframe tbody tr th:only-of-type {\n        vertical-align: middle;\n    }\n\n    .dataframe tbody tr th {\n        vertical-align: top;\n    }\n\n    .dataframe thead th {\n        text-align: right;\n    }\n</style>\n<table border=\"1\" class=\"dataframe\">\n  <thead>\n    <tr style=\"text-align: right;\">\n      <th></th>\n      <th>matrix</th>\n      <th>os</th>\n      <th>script</th>\n      <th>run</th>\n      <th>size</th>\n      <th>nnz</th>\n      <th>error</th>\n      <th>time</th>\n      <th>mem_peak</th>\n      <th>mem_avg</th>\n    </tr>\n  </thead>\n  <tbody>\n    <tr>\n      <th>0</th>\n      <td>GT01R</td>\n      <td>linux</td>\n      <td>octave</td>\n      <td>1</td>\n      <td>63680400</td>\n      <td>430909</td>\n      <td>4.430250e-15</td>\n      <td>0.715639</td>\n      <td>238576.0</td>\n      <td>0.0</td>\n    </tr>\n    <tr>\n      <th>1</th>\n      <td>GT01R</td>\n      <td>linux</td>\n      <td>octave</td>\n      <td>2</td>\n      <td>63680400</td>\n      <td>430909</td>\n      <td>4.430250e-15</td>\n      <td>0.772768</td>\n      <td>223000.0</td>\n      <td>0.0</td>\n    </tr>\n    <tr>\n      <th>2</th>\n      <td>GT01R</td>\n      <td>linux</td>\n      <td>python</td>\n      <td>1</td>\n      <td>7980</td>\n      <td>430909</td>\n      <td>8.200859e-13</td>\n      <td>1.258672</td>\n      <td>130228.0</td>\n      <td>0.0</td>\n    </tr>\n    <tr>\n      <th>3</th>\n      <td>GT01R</td>\n      <td>linux</td>\n      <td>python</td>\n      <td>2</td>\n      <td>7980</td>\n      <td>430909</td>\n      <td>8.200859e-13</td>\n      <td>1.307804</td>\n      <td>129996.0</td>\n      <td>0.0</td>\n    </tr>\n    <tr>\n      <th>4</th>\n      <td>GT01R</td>\n      <td>windows</td>\n      <td>octave</td>\n      <td>1</td>\n      <td>63680400</td>\n      <td>430909</td>\n      <td>4.430250e-15</td>\n      <td>0.715639</td>\n      <td>238576.0</td>\n      <td>0.0</td>\n    </tr>\n    <tr>\n      <th>5</th>\n      <td>GT01R</td>\n      <td>windows</td>\n      <td>octave</td>\n      <td>2</td>\n      <td>63680400</td>\n      <td>430909</td>\n      <td>4.430250e-15</td>\n      <td>0.772768</td>\n      <td>223000.0</td>\n      <td>0.0</td>\n    </tr>\n    <tr>\n      <th>6</th>\n      <td>GT01R</td>\n      <td>windows</td>\n      <td>python</td>\n      <td>1</td>\n      <td>7980</td>\n      <td>430909</td>\n      <td>8.200859e-13</td>\n      <td>1.258672</td>\n      <td>130228.0</td>\n      <td>0.0</td>\n    </tr>\n    <tr>\n      <th>7</th>\n      <td>GT01R</td>\n      <td>windows</td>\n      <td>python</td>\n      <td>2</td>\n      <td>7980</td>\n      <td>430909</td>\n      <td>8.200859e-13</td>\n      <td>1.307804</td>\n      <td>129996.0</td>\n      <td>0.0</td>\n    </tr>\n    <tr>\n      <th>8</th>\n      <td>TSC_OPF_1047</td>\n      <td>linux</td>\n      <td>octave</td>\n      <td>1</td>\n      <td>66259600</td>\n      <td>2012833</td>\n      <td>5.071850e-12</td>\n      <td>1.047590</td>\n      <td>345016.0</td>\n      <td>0.0</td>\n    </tr>\n    <tr>\n      <th>9</th>\n      <td>TSC_OPF_1047</td>\n      <td>linux</td>\n      <td>octave</td>\n      <td>2</td>\n      <td>66259600</td>\n      <td>2012833</td>\n      <td>5.071850e-12</td>\n      <td>1.036870</td>\n      <td>344904.0</td>\n      <td>0.0</td>\n    </tr>\n    <tr>\n      <th>10</th>\n      <td>TSC_OPF_1047</td>\n      <td>linux</td>\n      <td>python</td>\n      <td>1</td>\n      <td>8140</td>\n      <td>2012833</td>\n      <td>1.223370e-11</td>\n      <td>1.732950</td>\n      <td>173108.0</td>\n      <td>0.0</td>\n    </tr>\n    <tr>\n      <th>11</th>\n      <td>TSC_OPF_1047</td>\n      <td>linux</td>\n      <td>python</td>\n      <td>2</td>\n      <td>8140</td>\n      <td>2012833</td>\n      <td>1.223370e-11</td>\n      <td>1.775999</td>\n      <td>173136.0</td>\n      <td>0.0</td>\n    </tr>\n    <tr>\n      <th>12</th>\n      <td>TSC_OPF_1047</td>\n      <td>windows</td>\n      <td>octave</td>\n      <td>1</td>\n      <td>66259600</td>\n      <td>2012833</td>\n      <td>5.071850e-12</td>\n      <td>1.047590</td>\n      <td>345016.0</td>\n      <td>0.0</td>\n    </tr>\n    <tr>\n      <th>13</th>\n      <td>TSC_OPF_1047</td>\n      <td>windows</td>\n      <td>octave</td>\n      <td>2</td>\n      <td>66259600</td>\n      <td>2012833</td>\n      <td>5.071850e-12</td>\n      <td>1.036870</td>\n      <td>344904.0</td>\n      <td>0.0</td>\n    </tr>\n    <tr>\n      <th>14</th>\n      <td>TSC_OPF_1047</td>\n      <td>windows</td>\n      <td>python</td>\n      <td>1</td>\n      <td>8140</td>\n      <td>2012833</td>\n      <td>1.223370e-11</td>\n      <td>1.732950</td>\n      <td>173108.0</td>\n      <td>0.0</td>\n    </tr>\n    <tr>\n      <th>15</th>\n      <td>TSC_OPF_1047</td>\n      <td>windows</td>\n      <td>python</td>\n      <td>2</td>\n      <td>8140</td>\n      <td>2012833</td>\n      <td>1.223370e-11</td>\n      <td>1.775999</td>\n      <td>173136.0</td>\n      <td>0.0</td>\n    </tr>\n    <tr>\n      <th>16</th>\n      <td>ns3Da</td>\n      <td>linux</td>\n      <td>octave</td>\n      <td>1</td>\n      <td>416731396</td>\n      <td>1679599</td>\n      <td>9.878790e-16</td>\n      <td>1.496800</td>\n      <td>365988.0</td>\n      <td>0.0</td>\n    </tr>\n    <tr>\n      <th>17</th>\n      <td>ns3Da</td>\n      <td>linux</td>\n      <td>octave</td>\n      <td>2</td>\n      <td>416731396</td>\n      <td>1679599</td>\n      <td>9.878790e-16</td>\n      <td>1.647940</td>\n      <td>365952.0</td>\n      <td>0.0</td>\n    </tr>\n    <tr>\n      <th>18</th>\n      <td>ns3Da</td>\n      <td>linux</td>\n      <td>python</td>\n      <td>1</td>\n      <td>20414</td>\n      <td>1679599</td>\n      <td>8.085978e-15</td>\n      <td>9.164109</td>\n      <td>407248.0</td>\n      <td>0.0</td>\n    </tr>\n    <tr>\n      <th>19</th>\n      <td>ns3Da</td>\n      <td>linux</td>\n      <td>python</td>\n      <td>2</td>\n      <td>20414</td>\n      <td>1679599</td>\n      <td>8.085978e-15</td>\n      <td>9.393556</td>\n      <td>407328.0</td>\n      <td>0.0</td>\n    </tr>\n    <tr>\n      <th>20</th>\n      <td>ns3Da</td>\n      <td>windows</td>\n      <td>octave</td>\n      <td>1</td>\n      <td>416731396</td>\n      <td>1679599</td>\n      <td>9.878790e-16</td>\n      <td>1.496800</td>\n      <td>365988.0</td>\n      <td>0.0</td>\n    </tr>\n    <tr>\n      <th>21</th>\n      <td>ns3Da</td>\n      <td>windows</td>\n      <td>octave</td>\n      <td>2</td>\n      <td>416731396</td>\n      <td>1679599</td>\n      <td>9.878790e-16</td>\n      <td>1.647940</td>\n      <td>365952.0</td>\n      <td>0.0</td>\n    </tr>\n    <tr>\n      <th>22</th>\n      <td>ns3Da</td>\n      <td>windows</td>\n      <td>python</td>\n      <td>1</td>\n      <td>20414</td>\n      <td>1679599</td>\n      <td>8.085978e-15</td>\n      <td>9.164109</td>\n      <td>407248.0</td>\n      <td>0.0</td>\n    </tr>\n    <tr>\n      <th>23</th>\n      <td>ns3Da</td>\n      <td>windows</td>\n      <td>python</td>\n      <td>2</td>\n      <td>20414</td>\n      <td>1679599</td>\n      <td>8.085978e-15</td>\n      <td>9.393556</td>\n      <td>407328.0</td>\n      <td>0.0</td>\n    </tr>\n  </tbody>\n</table>\n</div>"
     },
     "execution_count": 113,
     "metadata": {},
     "output_type": "execute_result"
    }
   ],
   "source": [
    "HEADER = {'matrix': str, 'os': str, 'script': str, 'run': int,\n",
    "          'size': int, 'nnz': int, 'error': float, 'time': float,\n",
    "          'mem_peak': float, 'mem_avg': float}\n",
    "data = []\n",
    "for report in reports:\n",
    "    with open(join(OUTPUT_DIR, report), 'r') as f:\n",
    "        new_line = []\n",
    "        metadata = report.split('.')[0].split('-')\n",
    "        new_line += [metadata[1], metadata[0], metadata[2], metadata[3]]\n",
    "        new_line += f.readline().split(';')\n",
    "        data.append(new_line)\n",
    "df = pd.DataFrame(data=data, columns=HEADER.keys())\n",
    "df = df.sort_values(by=[\"matrix\", \"os\", \"script\", \"run\"], ignore_index=True)\n",
    "df = df.astype(HEADER)\n",
    "df"
   ],
   "metadata": {
    "collapsed": false,
    "pycharm": {
     "name": "#%%\n"
    }
   }
  },
  {
   "cell_type": "code",
   "execution_count": 114,
   "outputs": [],
   "source": [
    "# Dimensione matrici"
   ],
   "metadata": {
    "collapsed": false,
    "pycharm": {
     "name": "#%%\n"
    }
   }
  },
  {
   "cell_type": "code",
   "execution_count": 115,
   "outputs": [
    {
     "data": {
      "text/plain": "Text(0.5, 1.0, 'Matrix dimension')"
     },
     "execution_count": 115,
     "metadata": {},
     "output_type": "execute_result"
    },
    {
     "data": {
      "text/plain": "<Figure size 432x288 with 1 Axes>",
      "image/png": "[encoded data removed]"
     },
     "metadata": {
      "needs_background": "light"
     },
     "output_type": "display_data"
    }
   ],
   "source": [
    "sns.barplot(data=df.groupby(\"matrix\").max().reset_index(), x=\"matrix\", y=\"size\").set_title(\"Matrix dimension\")"
   ],
   "metadata": {
    "collapsed": false,
    "pycharm": {
     "name": "#%%\n"
    }
   }
  },
  {
   "cell_type": "code",
   "execution_count": 116,
   "outputs": [
    {
     "data": {
      "text/plain": "Text(0.5, 1.0, 'Non zero elements')"
     },
     "execution_count": 116,
     "metadata": {},
     "output_type": "execute_result"
    },
    {
     "data": {
      "text/plain": "<Figure size 432x288 with 1 Axes>",
      "image/png": "[encoded data removed]"
     },
     "metadata": {
      "needs_background": "light"
     },
     "output_type": "display_data"
    }
   ],
   "source": [
    "sns.barplot(data=df.groupby(\"matrix\").max().reset_index(), x=\"matrix\", y=\"nnz\").set_title(\"Non zero elements\")\n",
    "\n"
   ],
   "metadata": {
    "collapsed": false,
    "pycharm": {
     "name": "#%%\n"
    }
   }
  },
  {
   "cell_type": "code",
   "execution_count": null,
   "outputs": [],
   "source": [],
   "metadata": {
    "collapsed": false,
    "pycharm": {
     "name": "#%%\n"
    }
   }
  }
 ],
 "metadata": {
  "kernelspec": {
   "display_name": "Python 3",
   "language": "python",
   "name": "python3"
  },
  "language_info": {
   "codemirror_mode": {
    "name": "ipython",
    "version": 2
   },
   "file_extension": ".py",
   "mimetype": "text/x-python",
   "name": "python",
   "nbconvert_exporter": "python",
   "pygments_lexer": "ipython2",
   "version": "2.7.6"
  }
 },
 "nbformat": 4,
 "nbformat_minor": 0
}