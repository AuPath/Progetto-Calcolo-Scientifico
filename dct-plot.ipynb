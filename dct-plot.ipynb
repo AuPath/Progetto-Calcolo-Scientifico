{
 "cells": [
  {
   "cell_type": "code",
   "execution_count": 3,
   "metadata": {
    "collapsed": true
   },
   "outputs": [],
   "source": [
    "import os\n",
    "import numpy as np\n",
    "import matplotlib.pyplot as plt\n",
    "import pandas as pd\n",
    "import seaborn as sns\n",
    "import plotly.express as px\n",
    "import plotly.graph_objects as go\n",
    "import os"
   ]
  },
  {
   "cell_type": "code",
   "execution_count": 11,
   "outputs": [],
   "source": [
    "DIMENSION_THLD = 8\n",
    "ASSETS_PATH = 'doc/assets'\n",
    "SCALE = 4"
   ],
   "metadata": {
    "collapsed": false,
    "pycharm": {
     "name": "#%%\n"
    }
   }
  },
  {
   "cell_type": "code",
   "execution_count": 12,
   "outputs": [
    {
     "data": {
      "text/plain": "        Time  Run          Type  Dimension   LogTime\n0   0.004807    1  HomeMade DCT          4 -7.700720\n1   0.040110    1  HomeMade DCT          5 -4.639890\n2   0.270744    1  HomeMade DCT          6 -1.884998\n3   2.001292    1  HomeMade DCT          7  1.000931\n4  16.371788    1  HomeMade DCT          8  4.033140",
      "text/html": "<div>\n<style scoped>\n    .dataframe tbody tr th:only-of-type {\n        vertical-align: middle;\n    }\n\n    .dataframe tbody tr th {\n        vertical-align: top;\n    }\n\n    .dataframe thead th {\n        text-align: right;\n    }\n</style>\n<table border=\"1\" class=\"dataframe\">\n  <thead>\n    <tr style=\"text-align: right;\">\n      <th></th>\n      <th>Time</th>\n      <th>Run</th>\n      <th>Type</th>\n      <th>Dimension</th>\n      <th>LogTime</th>\n    </tr>\n  </thead>\n  <tbody>\n    <tr>\n      <th>0</th>\n      <td>0.004807</td>\n      <td>1</td>\n      <td>HomeMade DCT</td>\n      <td>4</td>\n      <td>-7.700720</td>\n    </tr>\n    <tr>\n      <th>1</th>\n      <td>0.040110</td>\n      <td>1</td>\n      <td>HomeMade DCT</td>\n      <td>5</td>\n      <td>-4.639890</td>\n    </tr>\n    <tr>\n      <th>2</th>\n      <td>0.270744</td>\n      <td>1</td>\n      <td>HomeMade DCT</td>\n      <td>6</td>\n      <td>-1.884998</td>\n    </tr>\n    <tr>\n      <th>3</th>\n      <td>2.001292</td>\n      <td>1</td>\n      <td>HomeMade DCT</td>\n      <td>7</td>\n      <td>1.000931</td>\n    </tr>\n    <tr>\n      <th>4</th>\n      <td>16.371788</td>\n      <td>1</td>\n      <td>HomeMade DCT</td>\n      <td>8</td>\n      <td>4.033140</td>\n    </tr>\n  </tbody>\n</table>\n</div>"
     },
     "execution_count": 12,
     "metadata": {},
     "output_type": "execute_result"
    }
   ],
   "source": [
    "data = pd.read_pickle(os.path.join(\".\", \"out-dct\", \"data-result.pkl\"))\n",
    "data = data.query('Dimension >= 3')\n",
    "data[\"LogTime\"] = data[\"Time\"].apply(np.log2)\n",
    "data.head()"
   ],
   "metadata": {
    "collapsed": false,
    "pycharm": {
     "name": "#%%\n"
    }
   }
  },
  {
   "cell_type": "code",
   "execution_count": 13,
   "outputs": [
    {
     "data": {
      "text/plain": "       Time  Run       Type  Dimension    LogTime\n1  0.000069    1  Numpy FFT          3 -13.825074\n2  0.000080    1  Numpy FFT          4 -13.611983\n3  0.000110    1  Numpy FFT          5 -13.151377\n4  0.000132    1  Numpy FFT          6 -12.883656\n5  0.000336    1  Numpy FFT          7 -11.539544",
      "text/html": "<div>\n<style scoped>\n    .dataframe tbody tr th:only-of-type {\n        vertical-align: middle;\n    }\n\n    .dataframe tbody tr th {\n        vertical-align: top;\n    }\n\n    .dataframe thead th {\n        text-align: right;\n    }\n</style>\n<table border=\"1\" class=\"dataframe\">\n  <thead>\n    <tr style=\"text-align: right;\">\n      <th></th>\n      <th>Time</th>\n      <th>Run</th>\n      <th>Type</th>\n      <th>Dimension</th>\n      <th>LogTime</th>\n    </tr>\n  </thead>\n  <tbody>\n    <tr>\n      <th>1</th>\n      <td>0.000069</td>\n      <td>1</td>\n      <td>Numpy FFT</td>\n      <td>3</td>\n      <td>-13.825074</td>\n    </tr>\n    <tr>\n      <th>2</th>\n      <td>0.000080</td>\n      <td>1</td>\n      <td>Numpy FFT</td>\n      <td>4</td>\n      <td>-13.611983</td>\n    </tr>\n    <tr>\n      <th>3</th>\n      <td>0.000110</td>\n      <td>1</td>\n      <td>Numpy FFT</td>\n      <td>5</td>\n      <td>-13.151377</td>\n    </tr>\n    <tr>\n      <th>4</th>\n      <td>0.000132</td>\n      <td>1</td>\n      <td>Numpy FFT</td>\n      <td>6</td>\n      <td>-12.883656</td>\n    </tr>\n    <tr>\n      <th>5</th>\n      <td>0.000336</td>\n      <td>1</td>\n      <td>Numpy FFT</td>\n      <td>7</td>\n      <td>-11.539544</td>\n    </tr>\n  </tbody>\n</table>\n</div>"
     },
     "execution_count": 13,
     "metadata": {},
     "output_type": "execute_result"
    }
   ],
   "source": [
    "valid_data = data.query(f'Dimension >= {DIMENSION_THLD} or Type == \"HomeMade DCT\"')\n",
    "invalid_data = data.query(f'Dimension < {DIMENSION_THLD} and Type == \"Numpy FFT\"')\n",
    "assert len(valid_data) + len(invalid_data) == len(data)\n",
    "invalid_data.head()"
   ],
   "metadata": {
    "collapsed": false,
    "pycharm": {
     "name": "#%%\n"
    }
   }
  },
  {
   "cell_type": "code",
   "execution_count": 27,
   "outputs": [
    {
     "data": {
      "application/vnd.plotly.v1+json": {
       "config": {
        "plotlyServerURL": "https://plot.ly"
       },
       "data": [
        {
         "hovertemplate": "Type=HomeMade DCT<br>Dimension=%{x}<br>LogTime=%{y}<extra></extra>",
         "legendgroup": "HomeMade DCT",
         "marker": {
          "color": "#636efa",
          "symbol": "circle"
         },
         "mode": "markers",
         "name": "Custom DCT",
         "orientation": "v",
         "showlegend": true,
         "type": "scatter",
         "x": [
          4,
          5,
          6,
          7,
          8,
          9,
          10,
          11
         ],
         "xaxis": "x",
         "y": [
          -7.700720421133508,
          -4.639890222619345,
          -1.8849982738936923,
          1.0009313293459847,
          4.03313994546769,
          6.918631525346281,
          10.055601612922697,
          13.115610968568935
         ],
         "yaxis": "y"
        },
        {
         "hovertemplate": "<b>OLS trendline</b><br>LogTime = 2.95994 * Dimension + -19.5873<br>R<sup>2</sup>=0.999760<br><br>Type=HomeMade DCT<br>Dimension=%{x}<br>LogTime=%{y} <b>(trend)</b><extra></extra>",
         "legendgroup": "HomeMade DCT",
         "marker": {
          "color": "#636efa",
          "symbol": "circle"
         },
         "mode": "lines",
         "name": "Custom DCT",
         "showlegend": false,
         "type": "scatter",
         "x": [
          4,
          5,
          6,
          7,
          8,
          9,
          10,
          11
         ],
         "xaxis": "x",
         "y": [
          -7.747498230310569,
          -4.7875592193645105,
          -1.8276202084184519,
          1.1323188025276067,
          4.092257813473665,
          7.052196824419724,
          10.012135835365783,
          12.972074846311841
         ],
         "yaxis": "y"
        },
        {
         "hovertemplate": "Type=Numpy FFT<br>Dimension=%{x}<br>LogTime=%{y}<extra></extra>",
         "legendgroup": "Numpy FFT",
         "marker": {
          "color": "#EF553B",
          "symbol": "circle"
         },
         "mode": "markers",
         "name": "Numpy FFT",
         "orientation": "v",
         "showlegend": true,
         "type": "scatter",
         "x": [
          8,
          9,
          10,
          11,
          12,
          13,
          14,
          8,
          9,
          10,
          11,
          12,
          13,
          14,
          8,
          9,
          10,
          11,
          12,
          13,
          14,
          8,
          9,
          10,
          11,
          12,
          13,
          14,
          8,
          9,
          10,
          11,
          12,
          13,
          14,
          8,
          9,
          10,
          11,
          12,
          13,
          14,
          8,
          9,
          10,
          11,
          12,
          13,
          14,
          8,
          9,
          10,
          11,
          12,
          13,
          14,
          8,
          9,
          10,
          11,
          12,
          13,
          14,
          8,
          9,
          10,
          11,
          12,
          13,
          14
         ],
         "xaxis": "x",
         "y": [
          -9.05821875772147,
          -6.897778212356153,
          -4.839094540254475,
          -2.57209384905808,
          -0.32939172281047935,
          1.867578699298438,
          4.8364357494385795,
          -7.881626646050787,
          -6.03644911206776,
          -4.943679814334739,
          -2.4396746300817074,
          -0.38047045900005283,
          1.9056751983513462,
          5.125497325370338,
          -8.097436458028447,
          -6.60316112094245,
          -4.854207132544008,
          -2.456462128638767,
          -0.37681463698279416,
          1.8630904250424714,
          4.309369837217982,
          -8.778110838528734,
          -7.2321776352359475,
          -4.826644929785849,
          -2.5202217091961656,
          -0.31743397201842083,
          1.8917286445470252,
          4.95839062296144,
          -8.690239455270378,
          -6.48679673443345,
          -4.792137262760679,
          -2.47348165750685,
          -0.30234517105038555,
          1.8437985929474052,
          4.6553745574422605,
          -9.059686402854032,
          -6.727588910111221,
          -4.953803211606724,
          -2.4106670526830043,
          -0.39351210032504375,
          1.8545909734624573,
          4.680422826832095,
          -8.814505075789134,
          -7.247880734920942,
          -4.8252108246234116,
          -2.5663310266952726,
          -0.39802795679097464,
          1.8316693745557449,
          4.973931507798282,
          -8.550077584136243,
          -6.894009671208154,
          -4.874647073607154,
          -2.450369480799175,
          -0.3628608576419867,
          1.8185025063654279,
          4.133711968605472,
          -9.15274686167916,
          -6.985020609715638,
          -4.982745725989636,
          -2.5654939349233676,
          -0.40307641034485986,
          1.8429664058384776,
          4.570808316544302,
          -8.900816589920714,
          -6.509211785106993,
          -4.936952572572972,
          -2.639995276637644,
          -0.4493927006653102,
          1.7953505541573915,
          4.569627863602065
         ],
         "yaxis": "y"
        },
        {
         "hovertemplate": "<b>OLS trendline</b><br>LogTime = 2.20992 * Dimension + -26.6936<br>R<sup>2</sup>=0.993889<br><br>Type=Numpy FFT<br>Dimension=%{x}<br>LogTime=%{y} <b>(trend)</b><extra></extra>",
         "legendgroup": "Numpy FFT",
         "marker": {
          "color": "#EF553B",
          "symbol": "circle"
         },
         "mode": "lines",
         "name": "Numpy FFT",
         "showlegend": false,
         "type": "scatter",
         "x": [
          8,
          8,
          8,
          8,
          8,
          8,
          8,
          8,
          8,
          8,
          9,
          9,
          9,
          9,
          9,
          9,
          9,
          9,
          9,
          9,
          10,
          10,
          10,
          10,
          10,
          10,
          10,
          10,
          10,
          10,
          11,
          11,
          11,
          11,
          11,
          11,
          11,
          11,
          11,
          11,
          12,
          12,
          12,
          12,
          12,
          12,
          12,
          12,
          12,
          12,
          13,
          13,
          13,
          13,
          13,
          13,
          13,
          13,
          13,
          13,
          14,
          14,
          14,
          14,
          14,
          14,
          14,
          14,
          14,
          14
         ],
         "xaxis": "x",
         "y": [
          -9.014213900671344,
          -9.014213900671344,
          -9.014213900671344,
          -9.014213900671344,
          -9.014213900671344,
          -9.014213900671344,
          -9.014213900671344,
          -9.014213900671344,
          -9.014213900671344,
          -9.014213900671344,
          -6.804296205531504,
          -6.804296205531504,
          -6.804296205531504,
          -6.804296205531504,
          -6.804296205531504,
          -6.804296205531504,
          -6.804296205531504,
          -6.804296205531504,
          -6.804296205531504,
          -6.804296205531504,
          -4.5943785103916674,
          -4.5943785103916674,
          -4.5943785103916674,
          -4.5943785103916674,
          -4.5943785103916674,
          -4.5943785103916674,
          -4.5943785103916674,
          -4.5943785103916674,
          -4.5943785103916674,
          -4.5943785103916674,
          -2.3844608152518276,
          -2.3844608152518276,
          -2.3844608152518276,
          -2.3844608152518276,
          -2.3844608152518276,
          -2.3844608152518276,
          -2.3844608152518276,
          -2.3844608152518276,
          -2.3844608152518276,
          -2.3844608152518276,
          -0.1745431201119878,
          -0.1745431201119878,
          -0.1745431201119878,
          -0.1745431201119878,
          -0.1745431201119878,
          -0.1745431201119878,
          -0.1745431201119878,
          -0.1745431201119878,
          -0.1745431201119878,
          -0.1745431201119878,
          2.0353745750278485,
          2.0353745750278485,
          2.0353745750278485,
          2.0353745750278485,
          2.0353745750278485,
          2.0353745750278485,
          2.0353745750278485,
          2.0353745750278485,
          2.0353745750278485,
          2.0353745750278485,
          4.245292270167688,
          4.245292270167688,
          4.245292270167688,
          4.245292270167688,
          4.245292270167688,
          4.245292270167688,
          4.245292270167688,
          4.245292270167688,
          4.245292270167688,
          4.245292270167688
         ],
         "yaxis": "y"
        },
        {
         "marker": {
          "color": "#EF553B"
         },
         "mode": "markers",
         "name": "Numpy FFT (low dim)",
         "showlegend": false,
         "type": "scatter",
         "x": [
          3,
          4,
          5,
          6,
          7,
          3,
          4,
          5,
          6,
          7,
          3,
          4,
          5,
          6,
          7,
          3,
          4,
          5,
          6,
          7,
          3,
          4,
          5,
          6,
          7,
          3,
          4,
          5,
          6,
          7,
          3,
          4,
          5,
          6,
          7,
          3,
          4,
          5,
          6,
          7,
          3,
          4,
          5,
          6,
          7,
          3,
          4,
          5,
          6,
          7
         ],
         "y": [
          -13.825074317499322,
          -13.611982714654864,
          -13.151377059570661,
          -12.883656038762531,
          -11.539544103690364,
          -8.040903657718033,
          -13.176632759953765,
          -8.775546046669431,
          -11.061155542533829,
          -11.697361076212447,
          -8.880248287798576,
          -9.67666371071983,
          -11.801554958547637,
          -10.923184402949168,
          -11.132721260290339,
          -11.586372070975827,
          -13.111256751101742,
          -13.176632759953765,
          -12.26190774037951,
          -10.786895780358094,
          -9.569547448334468,
          -12.449253214616757,
          -11.273781840667802,
          -10.896056570108442,
          -10.815124657091717,
          -9.551109370370739,
          -12.571639827295709,
          -12.338221902228012,
          -9.10954570716816,
          -10.42540647266239,
          -8.832738677369774,
          -12.303032473765713,
          -12.031333206804792,
          -9.471057584935105,
          -11.033494548094259,
          -10.973476557480234,
          -12.952876087885974,
          -8.183816318567658,
          -8.399622446892156,
          -11.346259221293431,
          -9.120991186007345,
          -13.255166162500455,
          -9.545700706380101,
          -9.444931608666662,
          -11.048715285033028,
          -9.833523049183196,
          -13.48824734623262,
          -12.749701582093667,
          -11.54467277969544,
          -10.95083212762783
         ]
        }
       ],
       "layout": {
        "legend": {
         "title": {
          "text": "Method"
         },
         "tracegroupgap": 0
        },
        "margin": {
         "t": 60
        },
        "template": {
         "data": {
          "bar": [
           {
            "error_x": {
             "color": "#2a3f5f"
            },
            "error_y": {
             "color": "#2a3f5f"
            },
            "marker": {
             "line": {
              "color": "#E5ECF6",
              "width": 0.5
             }
            },
            "type": "bar"
           }
          ],
          "barpolar": [
           {
            "marker": {
             "line": {
              "color": "#E5ECF6",
              "width": 0.5
             }
            },
            "type": "barpolar"
           }
          ],
          "carpet": [
           {
            "aaxis": {
             "endlinecolor": "#2a3f5f",
             "gridcolor": "white",
             "linecolor": "white",
             "minorgridcolor": "white",
             "startlinecolor": "#2a3f5f"
            },
            "baxis": {
             "endlinecolor": "#2a3f5f",
             "gridcolor": "white",
             "linecolor": "white",
             "minorgridcolor": "white",
             "startlinecolor": "#2a3f5f"
            },
            "type": "carpet"
           }
          ],
          "choropleth": [
           {
            "colorbar": {
             "outlinewidth": 0,
             "ticks": ""
            },
            "type": "choropleth"
           }
          ],
          "contour": [
           {
            "colorbar": {
             "outlinewidth": 0,
             "ticks": ""
            },
            "colorscale": [
             [
              0.0,
              "#0d0887"
             ],
             [
              0.1111111111111111,
              "#46039f"
             ],
             [
              0.2222222222222222,
              "#7201a8"
             ],
             [
              0.3333333333333333,
              "#9c179e"
             ],
             [
              0.4444444444444444,
              "#bd3786"
             ],
             [
              0.5555555555555556,
              "#d8576b"
             ],
             [
              0.6666666666666666,
              "#ed7953"
             ],
             [
              0.7777777777777778,
              "#fb9f3a"
             ],
             [
              0.8888888888888888,
              "#fdca26"
             ],
             [
              1.0,
              "#f0f921"
             ]
            ],
            "type": "contour"
           }
          ],
          "contourcarpet": [
           {
            "colorbar": {
             "outlinewidth": 0,
             "ticks": ""
            },
            "type": "contourcarpet"
           }
          ],
          "heatmap": [
           {
            "colorbar": {
             "outlinewidth": 0,
             "ticks": ""
            },
            "colorscale": [
             [
              0.0,
              "#0d0887"
             ],
             [
              0.1111111111111111,
              "#46039f"
             ],
             [
              0.2222222222222222,
              "#7201a8"
             ],
             [
              0.3333333333333333,
              "#9c179e"
             ],
             [
              0.4444444444444444,
              "#bd3786"
             ],
             [
              0.5555555555555556,
              "#d8576b"
             ],
             [
              0.6666666666666666,
              "#ed7953"
             ],
             [
              0.7777777777777778,
              "#fb9f3a"
             ],
             [
              0.8888888888888888,
              "#fdca26"
             ],
             [
              1.0,
              "#f0f921"
             ]
            ],
            "type": "heatmap"
           }
          ],
          "heatmapgl": [
           {
            "colorbar": {
             "outlinewidth": 0,
             "ticks": ""
            },
            "colorscale": [
             [
              0.0,
              "#0d0887"
             ],
             [
              0.1111111111111111,
              "#46039f"
             ],
             [
              0.2222222222222222,
              "#7201a8"
             ],
             [
              0.3333333333333333,
              "#9c179e"
             ],
             [
              0.4444444444444444,
              "#bd3786"
             ],
             [
              0.5555555555555556,
              "#d8576b"
             ],
             [
              0.6666666666666666,
              "#ed7953"
             ],
             [
              0.7777777777777778,
              "#fb9f3a"
             ],
             [
              0.8888888888888888,
              "#fdca26"
             ],
             [
              1.0,
              "#f0f921"
             ]
            ],
            "type": "heatmapgl"
           }
          ],
          "histogram": [
           {
            "marker": {
             "colorbar": {
              "outlinewidth": 0,
              "ticks": ""
             }
            },
            "type": "histogram"
           }
          ],
          "histogram2d": [
           {
            "colorbar": {
             "outlinewidth": 0,
             "ticks": ""
            },
            "colorscale": [
             [
              0.0,
              "#0d0887"
             ],
             [
              0.1111111111111111,
              "#46039f"
             ],
             [
              0.2222222222222222,
              "#7201a8"
             ],
             [
              0.3333333333333333,
              "#9c179e"
             ],
             [
              0.4444444444444444,
              "#bd3786"
             ],
             [
              0.5555555555555556,
              "#d8576b"
             ],
             [
              0.6666666666666666,
              "#ed7953"
             ],
             [
              0.7777777777777778,
              "#fb9f3a"
             ],
             [
              0.8888888888888888,
              "#fdca26"
             ],
             [
              1.0,
              "#f0f921"
             ]
            ],
            "type": "histogram2d"
           }
          ],
          "histogram2dcontour": [
           {
            "colorbar": {
             "outlinewidth": 0,
             "ticks": ""
            },
            "colorscale": [
             [
              0.0,
              "#0d0887"
             ],
             [
              0.1111111111111111,
              "#46039f"
             ],
             [
              0.2222222222222222,
              "#7201a8"
             ],
             [
              0.3333333333333333,
              "#9c179e"
             ],
             [
              0.4444444444444444,
              "#bd3786"
             ],
             [
              0.5555555555555556,
              "#d8576b"
             ],
             [
              0.6666666666666666,
              "#ed7953"
             ],
             [
              0.7777777777777778,
              "#fb9f3a"
             ],
             [
              0.8888888888888888,
              "#fdca26"
             ],
             [
              1.0,
              "#f0f921"
             ]
            ],
            "type": "histogram2dcontour"
           }
          ],
          "mesh3d": [
           {
            "colorbar": {
             "outlinewidth": 0,
             "ticks": ""
            },
            "type": "mesh3d"
           }
          ],
          "parcoords": [
           {
            "line": {
             "colorbar": {
              "outlinewidth": 0,
              "ticks": ""
             }
            },
            "type": "parcoords"
           }
          ],
          "pie": [
           {
            "automargin": true,
            "type": "pie"
           }
          ],
          "scatter": [
           {
            "marker": {
             "colorbar": {
              "outlinewidth": 0,
              "ticks": ""
             }
            },
            "type": "scatter"
           }
          ],
          "scatter3d": [
           {
            "line": {
             "colorbar": {
              "outlinewidth": 0,
              "ticks": ""
             }
            },
            "marker": {
             "colorbar": {
              "outlinewidth": 0,
              "ticks": ""
             }
            },
            "type": "scatter3d"
           }
          ],
          "scattercarpet": [
           {
            "marker": {
             "colorbar": {
              "outlinewidth": 0,
              "ticks": ""
             }
            },
            "type": "scattercarpet"
           }
          ],
          "scattergeo": [
           {
            "marker": {
             "colorbar": {
              "outlinewidth": 0,
              "ticks": ""
             }
            },
            "type": "scattergeo"
           }
          ],
          "scattergl": [
           {
            "marker": {
             "colorbar": {
              "outlinewidth": 0,
              "ticks": ""
             }
            },
            "type": "scattergl"
           }
          ],
          "scattermapbox": [
           {
            "marker": {
             "colorbar": {
              "outlinewidth": 0,
              "ticks": ""
             }
            },
            "type": "scattermapbox"
           }
          ],
          "scatterpolar": [
           {
            "marker": {
             "colorbar": {
              "outlinewidth": 0,
              "ticks": ""
             }
            },
            "type": "scatterpolar"
           }
          ],
          "scatterpolargl": [
           {
            "marker": {
             "colorbar": {
              "outlinewidth": 0,
              "ticks": ""
             }
            },
            "type": "scatterpolargl"
           }
          ],
          "scatterternary": [
           {
            "marker": {
             "colorbar": {
              "outlinewidth": 0,
              "ticks": ""
             }
            },
            "type": "scatterternary"
           }
          ],
          "surface": [
           {
            "colorbar": {
             "outlinewidth": 0,
             "ticks": ""
            },
            "colorscale": [
             [
              0.0,
              "#0d0887"
             ],
             [
              0.1111111111111111,
              "#46039f"
             ],
             [
              0.2222222222222222,
              "#7201a8"
             ],
             [
              0.3333333333333333,
              "#9c179e"
             ],
             [
              0.4444444444444444,
              "#bd3786"
             ],
             [
              0.5555555555555556,
              "#d8576b"
             ],
             [
              0.6666666666666666,
              "#ed7953"
             ],
             [
              0.7777777777777778,
              "#fb9f3a"
             ],
             [
              0.8888888888888888,
              "#fdca26"
             ],
             [
              1.0,
              "#f0f921"
             ]
            ],
            "type": "surface"
           }
          ],
          "table": [
           {
            "cells": {
             "fill": {
              "color": "#EBF0F8"
             },
             "line": {
              "color": "white"
             }
            },
            "header": {
             "fill": {
              "color": "#C8D4E3"
             },
             "line": {
              "color": "white"
             }
            },
            "type": "table"
           }
          ]
         },
         "layout": {
          "annotationdefaults": {
           "arrowcolor": "#2a3f5f",
           "arrowhead": 0,
           "arrowwidth": 1
          },
          "autotypenumbers": "strict",
          "coloraxis": {
           "colorbar": {
            "outlinewidth": 0,
            "ticks": ""
           }
          },
          "colorscale": {
           "diverging": [
            [
             0,
             "#8e0152"
            ],
            [
             0.1,
             "#c51b7d"
            ],
            [
             0.2,
             "#de77ae"
            ],
            [
             0.3,
             "#f1b6da"
            ],
            [
             0.4,
             "#fde0ef"
            ],
            [
             0.5,
             "#f7f7f7"
            ],
            [
             0.6,
             "#e6f5d0"
            ],
            [
             0.7,
             "#b8e186"
            ],
            [
             0.8,
             "#7fbc41"
            ],
            [
             0.9,
             "#4d9221"
            ],
            [
             1,
             "#276419"
            ]
           ],
           "sequential": [
            [
             0.0,
             "#0d0887"
            ],
            [
             0.1111111111111111,
             "#46039f"
            ],
            [
             0.2222222222222222,
             "#7201a8"
            ],
            [
             0.3333333333333333,
             "#9c179e"
            ],
            [
             0.4444444444444444,
             "#bd3786"
            ],
            [
             0.5555555555555556,
             "#d8576b"
            ],
            [
             0.6666666666666666,
             "#ed7953"
            ],
            [
             0.7777777777777778,
             "#fb9f3a"
            ],
            [
             0.8888888888888888,
             "#fdca26"
            ],
            [
             1.0,
             "#f0f921"
            ]
           ],
           "sequentialminus": [
            [
             0.0,
             "#0d0887"
            ],
            [
             0.1111111111111111,
             "#46039f"
            ],
            [
             0.2222222222222222,
             "#7201a8"
            ],
            [
             0.3333333333333333,
             "#9c179e"
            ],
            [
             0.4444444444444444,
             "#bd3786"
            ],
            [
             0.5555555555555556,
             "#d8576b"
            ],
            [
             0.6666666666666666,
             "#ed7953"
            ],
            [
             0.7777777777777778,
             "#fb9f3a"
            ],
            [
             0.8888888888888888,
             "#fdca26"
            ],
            [
             1.0,
             "#f0f921"
            ]
           ]
          },
          "colorway": [
           "#636efa",
           "#EF553B",
           "#00cc96",
           "#ab63fa",
           "#FFA15A",
           "#19d3f3",
           "#FF6692",
           "#B6E880",
           "#FF97FF",
           "#FECB52"
          ],
          "font": {
           "color": "#2a3f5f"
          },
          "geo": {
           "bgcolor": "white",
           "lakecolor": "white",
           "landcolor": "#E5ECF6",
           "showlakes": true,
           "showland": true,
           "subunitcolor": "white"
          },
          "hoverlabel": {
           "align": "left"
          },
          "hovermode": "closest",
          "mapbox": {
           "style": "light"
          },
          "paper_bgcolor": "white",
          "plot_bgcolor": "#E5ECF6",
          "polar": {
           "angularaxis": {
            "gridcolor": "white",
            "linecolor": "white",
            "ticks": ""
           },
           "bgcolor": "#E5ECF6",
           "radialaxis": {
            "gridcolor": "white",
            "linecolor": "white",
            "ticks": ""
           }
          },
          "scene": {
           "xaxis": {
            "backgroundcolor": "#E5ECF6",
            "gridcolor": "white",
            "gridwidth": 2,
            "linecolor": "white",
            "showbackground": true,
            "ticks": "",
            "zerolinecolor": "white"
           },
           "yaxis": {
            "backgroundcolor": "#E5ECF6",
            "gridcolor": "white",
            "gridwidth": 2,
            "linecolor": "white",
            "showbackground": true,
            "ticks": "",
            "zerolinecolor": "white"
           },
           "zaxis": {
            "backgroundcolor": "#E5ECF6",
            "gridcolor": "white",
            "gridwidth": 2,
            "linecolor": "white",
            "showbackground": true,
            "ticks": "",
            "zerolinecolor": "white"
           }
          },
          "shapedefaults": {
           "line": {
            "color": "#2a3f5f"
           }
          },
          "ternary": {
           "aaxis": {
            "gridcolor": "white",
            "linecolor": "white",
            "ticks": ""
           },
           "baxis": {
            "gridcolor": "white",
            "linecolor": "white",
            "ticks": ""
           },
           "bgcolor": "#E5ECF6",
           "caxis": {
            "gridcolor": "white",
            "linecolor": "white",
            "ticks": ""
           }
          },
          "title": {
           "x": 0.05
          },
          "xaxis": {
           "automargin": true,
           "gridcolor": "white",
           "linecolor": "white",
           "ticks": "",
           "title": {
            "standoff": 15
           },
           "zerolinecolor": "white",
           "zerolinewidth": 2
          },
          "yaxis": {
           "automargin": true,
           "gridcolor": "white",
           "linecolor": "white",
           "ticks": "",
           "title": {
            "standoff": 15
           },
           "zerolinecolor": "white",
           "zerolinewidth": 2
          }
         }
        },
        "title": {
         "text": "Numpy FFT vs Custom DCT time comparison",
         "x": 0.5,
         "xanchor": "center"
        },
        "xaxis": {
         "anchor": "y",
         "domain": [
          0.0,
          1.0
         ],
         "tickmode": "array",
         "ticktext": [
          "$2^{2}$",
          "$2^{3}$",
          "$2^{4}$",
          "$2^{5}$",
          "$2^{6}$",
          "$2^{7}$",
          "$2^{8}$",
          "$2^{9}$",
          "$2^{10}$",
          "$2^{11}$",
          "$2^{12}$",
          "$2^{13}$",
          "$2^{14}$"
         ],
         "tickvals": [
          2,
          3,
          4,
          5,
          6,
          7,
          8,
          9,
          10,
          11,
          12,
          13,
          14
         ],
         "title": {
          "text": "Matrix dimension"
         }
        },
        "yaxis": {
         "anchor": "x",
         "domain": [
          0.0,
          1.0
         ],
         "tickmode": "array",
         "ticktext": [
          "$10^{-15}$",
          "$10^{-13}$",
          "$10^{-11}$",
          "$10^{-9}$",
          "$10^{-7}$",
          "$10^{-5}$",
          "$10^{-3}$",
          "$10^{-1}$",
          "$10^{1}$",
          "$10^{3}$",
          "$10^{5}$",
          "$10^{7}$",
          "$10^{9}$",
          "$10^{11}$",
          "$10^{13}$"
         ],
         "tickvals": [
          -15,
          -13,
          -11,
          -9,
          -7,
          -5,
          -3,
          -1,
          1,
          3,
          5,
          7,
          9,
          11,
          13
         ],
         "title": {
          "text": "Time (s)"
         }
        }
       }
      },
      "text/html": "<div>                            <div id=\"cdbf0eff-38a2-4a05-8c22-c079612c422a\" class=\"plotly-graph-div\" style=\"height:525px; width:100%;\"></div>            <script type=\"text/javascript\">                require([\"plotly\"], function(Plotly) {                    window.PLOTLYENV=window.PLOTLYENV || {};                                    if (document.getElementById(\"cdbf0eff-38a2-4a05-8c22-c079612c422a\")) {                    Plotly.newPlot(                        \"cdbf0eff-38a2-4a05-8c22-c079612c422a\",                        [{\"hovertemplate\": \"Type=HomeMade DCT<br>Dimension=%{x}<br>LogTime=%{y}<extra></extra>\", \"legendgroup\": \"HomeMade DCT\", \"marker\": {\"color\": \"#636efa\", \"symbol\": \"circle\"}, \"mode\": \"markers\", \"name\": \"Custom DCT\", \"orientation\": \"v\", \"showlegend\": true, \"type\": \"scatter\", \"x\": [4, 5, 6, 7, 8, 9, 10, 11], \"xaxis\": \"x\", \"y\": [-7.700720421133508, -4.639890222619345, -1.8849982738936923, 1.0009313293459847, 4.03313994546769, 6.918631525346281, 10.055601612922697, 13.115610968568935], \"yaxis\": \"y\"}, {\"hovertemplate\": \"<b>OLS trendline</b><br>LogTime = 2.95994 * Dimension + -19.5873<br>R<sup>2</sup>=0.999760<br><br>Type=HomeMade DCT<br>Dimension=%{x}<br>LogTime=%{y} <b>(trend)</b><extra></extra>\", \"legendgroup\": \"HomeMade DCT\", \"marker\": {\"color\": \"#636efa\", \"symbol\": \"circle\"}, \"mode\": \"lines\", \"name\": \"Custom DCT\", \"showlegend\": false, \"type\": \"scatter\", \"x\": [4, 5, 6, 7, 8, 9, 10, 11], \"xaxis\": \"x\", \"y\": [-7.747498230310569, -4.7875592193645105, -1.8276202084184519, 1.1323188025276067, 4.092257813473665, 7.052196824419724, 10.012135835365783, 12.972074846311841], \"yaxis\": \"y\"}, {\"hovertemplate\": \"Type=Numpy FFT<br>Dimension=%{x}<br>LogTime=%{y}<extra></extra>\", \"legendgroup\": \"Numpy FFT\", \"marker\": {\"color\": \"#EF553B\", \"symbol\": \"circle\"}, \"mode\": \"markers\", \"name\": \"Numpy FFT\", \"orientation\": \"v\", \"showlegend\": true, \"type\": \"scatter\", \"x\": [8, 9, 10, 11, 12, 13, 14, 8, 9, 10, 11, 12, 13, 14, 8, 9, 10, 11, 12, 13, 14, 8, 9, 10, 11, 12, 13, 14, 8, 9, 10, 11, 12, 13, 14, 8, 9, 10, 11, 12, 13, 14, 8, 9, 10, 11, 12, 13, 14, 8, 9, 10, 11, 12, 13, 14, 8, 9, 10, 11, 12, 13, 14, 8, 9, 10, 11, 12, 13, 14], \"xaxis\": \"x\", \"y\": [-9.05821875772147, -6.897778212356153, -4.839094540254475, -2.57209384905808, -0.32939172281047935, 1.867578699298438, 4.8364357494385795, -7.881626646050787, -6.03644911206776, -4.943679814334739, -2.4396746300817074, -0.38047045900005283, 1.9056751983513462, 5.125497325370338, -8.097436458028447, -6.60316112094245, -4.854207132544008, -2.456462128638767, -0.37681463698279416, 1.8630904250424714, 4.309369837217982, -8.778110838528734, -7.2321776352359475, -4.826644929785849, -2.5202217091961656, -0.31743397201842083, 1.8917286445470252, 4.95839062296144, -8.690239455270378, -6.48679673443345, -4.792137262760679, -2.47348165750685, -0.30234517105038555, 1.8437985929474052, 4.6553745574422605, -9.059686402854032, -6.727588910111221, -4.953803211606724, -2.4106670526830043, -0.39351210032504375, 1.8545909734624573, 4.680422826832095, -8.814505075789134, -7.247880734920942, -4.8252108246234116, -2.5663310266952726, -0.39802795679097464, 1.8316693745557449, 4.973931507798282, -8.550077584136243, -6.894009671208154, -4.874647073607154, -2.450369480799175, -0.3628608576419867, 1.8185025063654279, 4.133711968605472, -9.15274686167916, -6.985020609715638, -4.982745725989636, -2.5654939349233676, -0.40307641034485986, 1.8429664058384776, 4.570808316544302, -8.900816589920714, -6.509211785106993, -4.936952572572972, -2.639995276637644, -0.4493927006653102, 1.7953505541573915, 4.569627863602065], \"yaxis\": \"y\"}, {\"hovertemplate\": \"<b>OLS trendline</b><br>LogTime = 2.20992 * Dimension + -26.6936<br>R<sup>2</sup>=0.993889<br><br>Type=Numpy FFT<br>Dimension=%{x}<br>LogTime=%{y} <b>(trend)</b><extra></extra>\", \"legendgroup\": \"Numpy FFT\", \"marker\": {\"color\": \"#EF553B\", \"symbol\": \"circle\"}, \"mode\": \"lines\", \"name\": \"Numpy FFT\", \"showlegend\": false, \"type\": \"scatter\", \"x\": [8, 8, 8, 8, 8, 8, 8, 8, 8, 8, 9, 9, 9, 9, 9, 9, 9, 9, 9, 9, 10, 10, 10, 10, 10, 10, 10, 10, 10, 10, 11, 11, 11, 11, 11, 11, 11, 11, 11, 11, 12, 12, 12, 12, 12, 12, 12, 12, 12, 12, 13, 13, 13, 13, 13, 13, 13, 13, 13, 13, 14, 14, 14, 14, 14, 14, 14, 14, 14, 14], \"xaxis\": \"x\", \"y\": [-9.014213900671344, -9.014213900671344, -9.014213900671344, -9.014213900671344, -9.014213900671344, -9.014213900671344, -9.014213900671344, -9.014213900671344, -9.014213900671344, -9.014213900671344, -6.804296205531504, -6.804296205531504, -6.804296205531504, -6.804296205531504, -6.804296205531504, -6.804296205531504, -6.804296205531504, -6.804296205531504, -6.804296205531504, -6.804296205531504, -4.5943785103916674, -4.5943785103916674, -4.5943785103916674, -4.5943785103916674, -4.5943785103916674, -4.5943785103916674, -4.5943785103916674, -4.5943785103916674, -4.5943785103916674, -4.5943785103916674, -2.3844608152518276, -2.3844608152518276, -2.3844608152518276, -2.3844608152518276, -2.3844608152518276, -2.3844608152518276, -2.3844608152518276, -2.3844608152518276, -2.3844608152518276, -2.3844608152518276, -0.1745431201119878, -0.1745431201119878, -0.1745431201119878, -0.1745431201119878, -0.1745431201119878, -0.1745431201119878, -0.1745431201119878, -0.1745431201119878, -0.1745431201119878, -0.1745431201119878, 2.0353745750278485, 2.0353745750278485, 2.0353745750278485, 2.0353745750278485, 2.0353745750278485, 2.0353745750278485, 2.0353745750278485, 2.0353745750278485, 2.0353745750278485, 2.0353745750278485, 4.245292270167688, 4.245292270167688, 4.245292270167688, 4.245292270167688, 4.245292270167688, 4.245292270167688, 4.245292270167688, 4.245292270167688, 4.245292270167688, 4.245292270167688], \"yaxis\": \"y\"}, {\"marker\": {\"color\": \"#EF553B\"}, \"mode\": \"markers\", \"name\": \"Numpy FFT (low dim)\", \"showlegend\": false, \"type\": \"scatter\", \"x\": [3, 4, 5, 6, 7, 3, 4, 5, 6, 7, 3, 4, 5, 6, 7, 3, 4, 5, 6, 7, 3, 4, 5, 6, 7, 3, 4, 5, 6, 7, 3, 4, 5, 6, 7, 3, 4, 5, 6, 7, 3, 4, 5, 6, 7, 3, 4, 5, 6, 7], \"y\": [-13.825074317499322, -13.611982714654864, -13.151377059570661, -12.883656038762531, -11.539544103690364, -8.040903657718033, -13.176632759953765, -8.775546046669431, -11.061155542533829, -11.697361076212447, -8.880248287798576, -9.67666371071983, -11.801554958547637, -10.923184402949168, -11.132721260290339, -11.586372070975827, -13.111256751101742, -13.176632759953765, -12.26190774037951, -10.786895780358094, -9.569547448334468, -12.449253214616757, -11.273781840667802, -10.896056570108442, -10.815124657091717, -9.551109370370739, -12.571639827295709, -12.338221902228012, -9.10954570716816, -10.42540647266239, -8.832738677369774, -12.303032473765713, -12.031333206804792, -9.471057584935105, -11.033494548094259, -10.973476557480234, -12.952876087885974, -8.183816318567658, -8.399622446892156, -11.346259221293431, -9.120991186007345, -13.255166162500455, -9.545700706380101, -9.444931608666662, -11.048715285033028, -9.833523049183196, -13.48824734623262, -12.749701582093667, -11.54467277969544, -10.95083212762783]}],                        {\"legend\": {\"title\": {\"text\": \"Method\"}, \"tracegroupgap\": 0}, \"margin\": {\"t\": 60}, \"template\": {\"data\": {\"bar\": [{\"error_x\": {\"color\": \"#2a3f5f\"}, \"error_y\": {\"color\": \"#2a3f5f\"}, \"marker\": {\"line\": {\"color\": \"#E5ECF6\", \"width\": 0.5}}, \"type\": \"bar\"}], \"barpolar\": [{\"marker\": {\"line\": {\"color\": \"#E5ECF6\", \"width\": 0.5}}, \"type\": \"barpolar\"}], \"carpet\": [{\"aaxis\": {\"endlinecolor\": \"#2a3f5f\", \"gridcolor\": \"white\", \"linecolor\": \"white\", \"minorgridcolor\": \"white\", \"startlinecolor\": \"#2a3f5f\"}, \"baxis\": {\"endlinecolor\": \"#2a3f5f\", \"gridcolor\": \"white\", \"linecolor\": \"white\", \"minorgridcolor\": \"white\", \"startlinecolor\": \"#2a3f5f\"}, \"type\": \"carpet\"}], \"choropleth\": [{\"colorbar\": {\"outlinewidth\": 0, \"ticks\": \"\"}, \"type\": \"choropleth\"}], \"contour\": [{\"colorbar\": {\"outlinewidth\": 0, \"ticks\": \"\"}, \"colorscale\": [[0.0, \"#0d0887\"], [0.1111111111111111, \"#46039f\"], [0.2222222222222222, \"#7201a8\"], [0.3333333333333333, \"#9c179e\"], [0.4444444444444444, \"#bd3786\"], [0.5555555555555556, \"#d8576b\"], [0.6666666666666666, \"#ed7953\"], [0.7777777777777778, \"#fb9f3a\"], [0.8888888888888888, \"#fdca26\"], [1.0, \"#f0f921\"]], \"type\": \"contour\"}], \"contourcarpet\": [{\"colorbar\": {\"outlinewidth\": 0, \"ticks\": \"\"}, \"type\": \"contourcarpet\"}], \"heatmap\": [{\"colorbar\": {\"outlinewidth\": 0, \"ticks\": \"\"}, \"colorscale\": [[0.0, \"#0d0887\"], [0.1111111111111111, \"#46039f\"], [0.2222222222222222, \"#7201a8\"], [0.3333333333333333, \"#9c179e\"], [0.4444444444444444, \"#bd3786\"], [0.5555555555555556, \"#d8576b\"], [0.6666666666666666, \"#ed7953\"], [0.7777777777777778, \"#fb9f3a\"], [0.8888888888888888, \"#fdca26\"], [1.0, \"#f0f921\"]], \"type\": \"heatmap\"}], \"heatmapgl\": [{\"colorbar\": {\"outlinewidth\": 0, \"ticks\": \"\"}, \"colorscale\": [[0.0, \"#0d0887\"], [0.1111111111111111, \"#46039f\"], [0.2222222222222222, \"#7201a8\"], [0.3333333333333333, \"#9c179e\"], [0.4444444444444444, \"#bd3786\"], [0.5555555555555556, \"#d8576b\"], [0.6666666666666666, \"#ed7953\"], [0.7777777777777778, \"#fb9f3a\"], [0.8888888888888888, \"#fdca26\"], [1.0, \"#f0f921\"]], \"type\": \"heatmapgl\"}], \"histogram\": [{\"marker\": {\"colorbar\": {\"outlinewidth\": 0, \"ticks\": \"\"}}, \"type\": \"histogram\"}], \"histogram2d\": [{\"colorbar\": {\"outlinewidth\": 0, \"ticks\": \"\"}, \"colorscale\": [[0.0, \"#0d0887\"], [0.1111111111111111, \"#46039f\"], [0.2222222222222222, \"#7201a8\"], [0.3333333333333333, \"#9c179e\"], [0.4444444444444444, \"#bd3786\"], [0.5555555555555556, \"#d8576b\"], [0.6666666666666666, \"#ed7953\"], [0.7777777777777778, \"#fb9f3a\"], [0.8888888888888888, \"#fdca26\"], [1.0, \"#f0f921\"]], \"type\": \"histogram2d\"}], \"histogram2dcontour\": [{\"colorbar\": {\"outlinewidth\": 0, \"ticks\": \"\"}, \"colorscale\": [[0.0, \"#0d0887\"], [0.1111111111111111, \"#46039f\"], [0.2222222222222222, \"#7201a8\"], [0.3333333333333333, \"#9c179e\"], [0.4444444444444444, \"#bd3786\"], [0.5555555555555556, \"#d8576b\"], [0.6666666666666666, \"#ed7953\"], [0.7777777777777778, \"#fb9f3a\"], [0.8888888888888888, \"#fdca26\"], [1.0, \"#f0f921\"]], \"type\": \"histogram2dcontour\"}], \"mesh3d\": [{\"colorbar\": {\"outlinewidth\": 0, \"ticks\": \"\"}, \"type\": \"mesh3d\"}], \"parcoords\": [{\"line\": {\"colorbar\": {\"outlinewidth\": 0, \"ticks\": \"\"}}, \"type\": \"parcoords\"}], \"pie\": [{\"automargin\": true, \"type\": \"pie\"}], \"scatter\": [{\"marker\": {\"colorbar\": {\"outlinewidth\": 0, \"ticks\": \"\"}}, \"type\": \"scatter\"}], \"scatter3d\": [{\"line\": {\"colorbar\": {\"outlinewidth\": 0, \"ticks\": \"\"}}, \"marker\": {\"colorbar\": {\"outlinewidth\": 0, \"ticks\": \"\"}}, \"type\": \"scatter3d\"}], \"scattercarpet\": [{\"marker\": {\"colorbar\": {\"outlinewidth\": 0, \"ticks\": \"\"}}, \"type\": \"scattercarpet\"}], \"scattergeo\": [{\"marker\": {\"colorbar\": {\"outlinewidth\": 0, \"ticks\": \"\"}}, \"type\": \"scattergeo\"}], \"scattergl\": [{\"marker\": {\"colorbar\": {\"outlinewidth\": 0, \"ticks\": \"\"}}, \"type\": \"scattergl\"}], \"scattermapbox\": [{\"marker\": {\"colorbar\": {\"outlinewidth\": 0, \"ticks\": \"\"}}, \"type\": \"scattermapbox\"}], \"scatterpolar\": [{\"marker\": {\"colorbar\": {\"outlinewidth\": 0, \"ticks\": \"\"}}, \"type\": \"scatterpolar\"}], \"scatterpolargl\": [{\"marker\": {\"colorbar\": {\"outlinewidth\": 0, \"ticks\": \"\"}}, \"type\": \"scatterpolargl\"}], \"scatterternary\": [{\"marker\": {\"colorbar\": {\"outlinewidth\": 0, \"ticks\": \"\"}}, \"type\": \"scatterternary\"}], \"surface\": [{\"colorbar\": {\"outlinewidth\": 0, \"ticks\": \"\"}, \"colorscale\": [[0.0, \"#0d0887\"], [0.1111111111111111, \"#46039f\"], [0.2222222222222222, \"#7201a8\"], [0.3333333333333333, \"#9c179e\"], [0.4444444444444444, \"#bd3786\"], [0.5555555555555556, \"#d8576b\"], [0.6666666666666666, \"#ed7953\"], [0.7777777777777778, \"#fb9f3a\"], [0.8888888888888888, \"#fdca26\"], [1.0, \"#f0f921\"]], \"type\": \"surface\"}], \"table\": [{\"cells\": {\"fill\": {\"color\": \"#EBF0F8\"}, \"line\": {\"color\": \"white\"}}, \"header\": {\"fill\": {\"color\": \"#C8D4E3\"}, \"line\": {\"color\": \"white\"}}, \"type\": \"table\"}]}, \"layout\": {\"annotationdefaults\": {\"arrowcolor\": \"#2a3f5f\", \"arrowhead\": 0, \"arrowwidth\": 1}, \"autotypenumbers\": \"strict\", \"coloraxis\": {\"colorbar\": {\"outlinewidth\": 0, \"ticks\": \"\"}}, \"colorscale\": {\"diverging\": [[0, \"#8e0152\"], [0.1, \"#c51b7d\"], [0.2, \"#de77ae\"], [0.3, \"#f1b6da\"], [0.4, \"#fde0ef\"], [0.5, \"#f7f7f7\"], [0.6, \"#e6f5d0\"], [0.7, \"#b8e186\"], [0.8, \"#7fbc41\"], [0.9, \"#4d9221\"], [1, \"#276419\"]], \"sequential\": [[0.0, \"#0d0887\"], [0.1111111111111111, \"#46039f\"], [0.2222222222222222, \"#7201a8\"], [0.3333333333333333, \"#9c179e\"], [0.4444444444444444, \"#bd3786\"], [0.5555555555555556, \"#d8576b\"], [0.6666666666666666, \"#ed7953\"], [0.7777777777777778, \"#fb9f3a\"], [0.8888888888888888, \"#fdca26\"], [1.0, \"#f0f921\"]], \"sequentialminus\": [[0.0, \"#0d0887\"], [0.1111111111111111, \"#46039f\"], [0.2222222222222222, \"#7201a8\"], [0.3333333333333333, \"#9c179e\"], [0.4444444444444444, \"#bd3786\"], [0.5555555555555556, \"#d8576b\"], [0.6666666666666666, \"#ed7953\"], [0.7777777777777778, \"#fb9f3a\"], [0.8888888888888888, \"#fdca26\"], [1.0, \"#f0f921\"]]}, \"colorway\": [\"#636efa\", \"#EF553B\", \"#00cc96\", \"#ab63fa\", \"#FFA15A\", \"#19d3f3\", \"#FF6692\", \"#B6E880\", \"#FF97FF\", \"#FECB52\"], \"font\": {\"color\": \"#2a3f5f\"}, \"geo\": {\"bgcolor\": \"white\", \"lakecolor\": \"white\", \"landcolor\": \"#E5ECF6\", \"showlakes\": true, \"showland\": true, \"subunitcolor\": \"white\"}, \"hoverlabel\": {\"align\": \"left\"}, \"hovermode\": \"closest\", \"mapbox\": {\"style\": \"light\"}, \"paper_bgcolor\": \"white\", \"plot_bgcolor\": \"#E5ECF6\", \"polar\": {\"angularaxis\": {\"gridcolor\": \"white\", \"linecolor\": \"white\", \"ticks\": \"\"}, \"bgcolor\": \"#E5ECF6\", \"radialaxis\": {\"gridcolor\": \"white\", \"linecolor\": \"white\", \"ticks\": \"\"}}, \"scene\": {\"xaxis\": {\"backgroundcolor\": \"#E5ECF6\", \"gridcolor\": \"white\", \"gridwidth\": 2, \"linecolor\": \"white\", \"showbackground\": true, \"ticks\": \"\", \"zerolinecolor\": \"white\"}, \"yaxis\": {\"backgroundcolor\": \"#E5ECF6\", \"gridcolor\": \"white\", \"gridwidth\": 2, \"linecolor\": \"white\", \"showbackground\": true, \"ticks\": \"\", \"zerolinecolor\": \"white\"}, \"zaxis\": {\"backgroundcolor\": \"#E5ECF6\", \"gridcolor\": \"white\", \"gridwidth\": 2, \"linecolor\": \"white\", \"showbackground\": true, \"ticks\": \"\", \"zerolinecolor\": \"white\"}}, \"shapedefaults\": {\"line\": {\"color\": \"#2a3f5f\"}}, \"ternary\": {\"aaxis\": {\"gridcolor\": \"white\", \"linecolor\": \"white\", \"ticks\": \"\"}, \"baxis\": {\"gridcolor\": \"white\", \"linecolor\": \"white\", \"ticks\": \"\"}, \"bgcolor\": \"#E5ECF6\", \"caxis\": {\"gridcolor\": \"white\", \"linecolor\": \"white\", \"ticks\": \"\"}}, \"title\": {\"x\": 0.05}, \"xaxis\": {\"automargin\": true, \"gridcolor\": \"white\", \"linecolor\": \"white\", \"ticks\": \"\", \"title\": {\"standoff\": 15}, \"zerolinecolor\": \"white\", \"zerolinewidth\": 2}, \"yaxis\": {\"automargin\": true, \"gridcolor\": \"white\", \"linecolor\": \"white\", \"ticks\": \"\", \"title\": {\"standoff\": 15}, \"zerolinecolor\": \"white\", \"zerolinewidth\": 2}}}, \"title\": {\"text\": \"Numpy FFT vs Custom DCT time comparison\", \"x\": 0.5, \"xanchor\": \"center\"}, \"xaxis\": {\"anchor\": \"y\", \"domain\": [0.0, 1.0], \"tickmode\": \"array\", \"ticktext\": [\"$2^{2}$\", \"$2^{3}$\", \"$2^{4}$\", \"$2^{5}$\", \"$2^{6}$\", \"$2^{7}$\", \"$2^{8}$\", \"$2^{9}$\", \"$2^{10}$\", \"$2^{11}$\", \"$2^{12}$\", \"$2^{13}$\", \"$2^{14}$\"], \"tickvals\": [2, 3, 4, 5, 6, 7, 8, 9, 10, 11, 12, 13, 14], \"title\": {\"text\": \"Matrix dimension\"}}, \"yaxis\": {\"anchor\": \"x\", \"domain\": [0.0, 1.0], \"tickmode\": \"array\", \"ticktext\": [\"$10^{-15}$\", \"$10^{-13}$\", \"$10^{-11}$\", \"$10^{-9}$\", \"$10^{-7}$\", \"$10^{-5}$\", \"$10^{-3}$\", \"$10^{-1}$\", \"$10^{1}$\", \"$10^{3}$\", \"$10^{5}$\", \"$10^{7}$\", \"$10^{9}$\", \"$10^{11}$\", \"$10^{13}$\"], \"tickvals\": [-15, -13, -11, -9, -7, -5, -3, -1, 1, 3, 5, 7, 9, 11, 13], \"title\": {\"text\": \"Time (s)\"}}},                        {\"responsive\": true}                    ).then(function(){\n                            \nvar gd = document.getElementById('cdbf0eff-38a2-4a05-8c22-c079612c422a');\nvar x = new MutationObserver(function (mutations, observer) {{\n        var display = window.getComputedStyle(gd).display;\n        if (!display || display === 'none') {{\n            console.log([gd, 'removed!']);\n            Plotly.purge(gd);\n            observer.disconnect();\n        }}\n}});\n\n// Listen for the removal of the full notebook cells\nvar notebookContainer = gd.closest('#notebook-container');\nif (notebookContainer) {{\n    x.observe(notebookContainer, {childList: true});\n}}\n\n// Listen for the clearing of the current output cell\nvar outputEl = gd.closest('.output');\nif (outputEl) {{\n    x.observe(outputEl, {childList: true});\n}}\n\n                        })                };                });            </script>        </div>"
     },
     "metadata": {},
     "output_type": "display_data"
    }
   ],
   "source": [
    "fig = px.scatter(valid_data, x=\"Dimension\", y=\"LogTime\", color=\"Type\", trendline=\"ols\")\n",
    "\n",
    "fig.add_trace(go.Scatter(x=invalid_data[\"Dimension\"], y=invalid_data[\"LogTime\"],\n",
    "                         mode='markers', name=\"Numpy FFT (low dim)\"))\n",
    "\n",
    "full_fig = fig.full_figure_for_development(warn=False)\n",
    "min_y, max_y = full_fig.layout.yaxis.range\n",
    "min_y, max_y = int(min_y), int(max_y)\n",
    "min_x, max_x = full_fig.layout.xaxis.range\n",
    "min_x, max_x = int(min_x), int(max_x)\n",
    "\n",
    "fig.update_layout(\n",
    "    title= dict(\n",
    "        text=f'Numpy FFT vs Custom DCT time comparison',\n",
    "        xanchor='center',\n",
    "        x=0.5),\n",
    "    xaxis_title = 'Matrix dimension',\n",
    "    yaxis_title = 'Time (s)',\n",
    "    yaxis = dict(\n",
    "        tickmode = 'array',\n",
    "        tickvals = [x for x in range(min_y, max_y + 1, 2)],\n",
    "        ticktext = ['$10^{}$'.format('{' + str(x) + '}') for x in range(min_y, max_y + 1, 2)],\n",
    "        #ticktext = [10**x for x in range(min_y, max_y + 1)],\n",
    "    ),\n",
    "    xaxis = dict(\n",
    "        tickmode = 'array',\n",
    "        tickvals = [x for x in range(min_x, max_x + 1)],\n",
    "        ticktext = ['$2^{}$'.format('{' + str(x) + '}') for x in range(min_x, max_x + 1)],\n",
    "        #ticktext = [10**x for x in range(min_y, max_y + 1)],\n",
    "    ),\n",
    "    legend=dict(title=\"Method\"),\n",
    ")\n",
    "fig.update_traces(marker=dict(color='#EF553B'), showlegend=False, selector=dict(name=\"Numpy FFT (low dim)\"))\n",
    "fig.update_traces(name=\"Custom DCT\", selector=dict(name=\"HomeMade DCT\"))\n",
    "\n",
    "fig.show()\n",
    "\n",
    "\n",
    "fig.write_image(os.path.join(ASSETS_PATH, 'dct2.png'), scale=SCALE)"
   ],
   "metadata": {
    "collapsed": false,
    "pycharm": {
     "name": "#%%\n"
    }
   }
  },
  {
   "cell_type": "code",
   "execution_count": 15,
   "outputs": [
    {
     "data": {
      "text/plain": "           Type                                     px_fit_results         m  \\\n0  HomeMade DCT  <statsmodels.regression.linear_model.Regressio...  2.959939   \n1     Numpy FFT  <statsmodels.regression.linear_model.Regressio...  2.209918   \n\n           q  \n0 -19.587254  \n1 -26.693555  ",
      "text/html": "<div>\n<style scoped>\n    .dataframe tbody tr th:only-of-type {\n        vertical-align: middle;\n    }\n\n    .dataframe tbody tr th {\n        vertical-align: top;\n    }\n\n    .dataframe thead th {\n        text-align: right;\n    }\n</style>\n<table border=\"1\" class=\"dataframe\">\n  <thead>\n    <tr style=\"text-align: right;\">\n      <th></th>\n      <th>Type</th>\n      <th>px_fit_results</th>\n      <th>m</th>\n      <th>q</th>\n    </tr>\n  </thead>\n  <tbody>\n    <tr>\n      <th>0</th>\n      <td>HomeMade DCT</td>\n      <td>&lt;statsmodels.regression.linear_model.Regressio...</td>\n      <td>2.959939</td>\n      <td>-19.587254</td>\n    </tr>\n    <tr>\n      <th>1</th>\n      <td>Numpy FFT</td>\n      <td>&lt;statsmodels.regression.linear_model.Regressio...</td>\n      <td>2.209918</td>\n      <td>-26.693555</td>\n    </tr>\n  </tbody>\n</table>\n</div>"
     },
     "execution_count": 15,
     "metadata": {},
     "output_type": "execute_result"
    }
   ],
   "source": [
    "def extract_regression_parameters(target_fig):\n",
    "    trend_df = px.get_trendline_results(target_fig)\n",
    "    trend_df[\"m\"] = trend_df[\"px_fit_results\"].apply(lambda x : x.params[1])\n",
    "    trend_df[\"q\"] = trend_df[\"px_fit_results\"].apply(lambda x : x.params[0])\n",
    "    return trend_df\n",
    "\n",
    "regression_parameters = extract_regression_parameters(fig)\n",
    "regression_parameters"
   ],
   "metadata": {
    "collapsed": false,
    "pycharm": {
     "name": "#%%\n"
    }
   }
  },
  {
   "cell_type": "code",
   "execution_count": 28,
   "outputs": [
    {
     "name": "stdout",
     "output_type": "stream",
     "text": [
      "Theoretical time ratio (2 / 3): 0.6666666666666666\n",
      "Time ratio: 0.7466091993677608\n"
     ]
    }
   ],
   "source": [
    "time_ratio = min(regression_parameters.m) / max(regression_parameters.m)\n",
    "print(f\"Theoretical time ratio (2 / 3): {2 / 3}\")\n",
    "print(f\"Time ratio: {time_ratio}\")"
   ],
   "metadata": {
    "collapsed": false,
    "pycharm": {
     "name": "#%%\n"
    }
   }
  },
  {
   "cell_type": "code",
   "execution_count": 24,
   "outputs": [],
   "source": [],
   "metadata": {
    "collapsed": false,
    "pycharm": {
     "name": "#%%\n"
    }
   }
  }
 ],
 "metadata": {
  "kernelspec": {
   "display_name": "Python 3",
   "language": "python",
   "name": "python3"
  },
  "language_info": {
   "codemirror_mode": {
    "name": "ipython",
    "version": 2
   },
   "file_extension": ".py",
   "mimetype": "text/x-python",
   "name": "python",
   "nbconvert_exporter": "python",
   "pygments_lexer": "ipython2",
   "version": "2.7.6"
  }
 },
 "nbformat": 4,
 "nbformat_minor": 0
}