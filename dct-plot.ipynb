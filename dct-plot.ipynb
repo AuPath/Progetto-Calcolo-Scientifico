{
 "cells": [
  {
   "cell_type": "code",
   "execution_count": 17,
   "metadata": {
    "collapsed": true
   },
   "outputs": [],
   "source": [
    "import os\n",
    "import numpy as np\n",
    "import matplotlib.pyplot as plt\n",
    "import pandas as pd\n",
    "import seaborn as sns\n",
    "import plotly.express as px\n",
    "import plotly.graph_objects as go\n",
    "import os"
   ]
  },
  {
   "cell_type": "code",
   "execution_count": 18,
   "outputs": [
    {
     "data": {
      "text/plain": "'Ciao/come/stai'"
     },
     "execution_count": 18,
     "metadata": {},
     "output_type": "execute_result"
    }
   ],
   "source": [
    "os.path.join(\"Ciao\", \"come\", \"stai\")"
   ],
   "metadata": {
    "collapsed": false,
    "pycharm": {
     "name": "#%%\n"
    }
   }
  },
  {
   "cell_type": "code",
   "execution_count": 19,
   "outputs": [],
   "source": [
    "DIMENSION_THLD = 8\n",
    "ASSETS_PATH = 'doc/assets'\n",
    "SCALE = 4"
   ],
   "metadata": {
    "collapsed": false,
    "pycharm": {
     "name": "#%%\n"
    }
   }
  },
  {
   "cell_type": "code",
   "execution_count": 20,
   "outputs": [
    {
     "data": {
      "text/plain": "        Time  Run          Type  Dimension   LogTime\n0   0.004807    1  HomeMade DCT          4 -2.318148\n1   0.040110    1  HomeMade DCT          5 -1.396746\n2   0.270744    1  HomeMade DCT          6 -0.567441\n3   2.001292    1  HomeMade DCT          7  0.301310\n4  16.371788    1  HomeMade DCT          8  1.214096",
      "text/html": "<div>\n<style scoped>\n    .dataframe tbody tr th:only-of-type {\n        vertical-align: middle;\n    }\n\n    .dataframe tbody tr th {\n        vertical-align: top;\n    }\n\n    .dataframe thead th {\n        text-align: right;\n    }\n</style>\n<table border=\"1\" class=\"dataframe\">\n  <thead>\n    <tr style=\"text-align: right;\">\n      <th></th>\n      <th>Time</th>\n      <th>Run</th>\n      <th>Type</th>\n      <th>Dimension</th>\n      <th>LogTime</th>\n    </tr>\n  </thead>\n  <tbody>\n    <tr>\n      <th>0</th>\n      <td>0.004807</td>\n      <td>1</td>\n      <td>HomeMade DCT</td>\n      <td>4</td>\n      <td>-2.318148</td>\n    </tr>\n    <tr>\n      <th>1</th>\n      <td>0.040110</td>\n      <td>1</td>\n      <td>HomeMade DCT</td>\n      <td>5</td>\n      <td>-1.396746</td>\n    </tr>\n    <tr>\n      <th>2</th>\n      <td>0.270744</td>\n      <td>1</td>\n      <td>HomeMade DCT</td>\n      <td>6</td>\n      <td>-0.567441</td>\n    </tr>\n    <tr>\n      <th>3</th>\n      <td>2.001292</td>\n      <td>1</td>\n      <td>HomeMade DCT</td>\n      <td>7</td>\n      <td>0.301310</td>\n    </tr>\n    <tr>\n      <th>4</th>\n      <td>16.371788</td>\n      <td>1</td>\n      <td>HomeMade DCT</td>\n      <td>8</td>\n      <td>1.214096</td>\n    </tr>\n  </tbody>\n</table>\n</div>"
     },
     "execution_count": 20,
     "metadata": {},
     "output_type": "execute_result"
    }
   ],
   "source": [
    "data = pd.read_pickle(os.path.join(\".\", \"out-dct\", \"data-result.pkl\"))\n",
    "data = data.query('Dimension >= 3')\n",
    "data[\"LogTime\"] = data[\"Time\"].apply(np.log10)\n",
    "data.head()"
   ],
   "metadata": {
    "collapsed": false,
    "pycharm": {
     "name": "#%%\n"
    }
   }
  },
  {
   "cell_type": "code",
   "execution_count": 21,
   "outputs": [
    {
     "data": {
      "text/plain": "       Time  Run       Type  Dimension   LogTime\n1  0.000069    1  Numpy FFT          3 -4.161762\n2  0.000080    1  Numpy FFT          4 -4.097615\n3  0.000110    1  Numpy FFT          5 -3.958959\n4  0.000132    1  Numpy FFT          6 -3.878367\n5  0.000336    1  Numpy FFT          7 -3.473749",
      "text/html": "<div>\n<style scoped>\n    .dataframe tbody tr th:only-of-type {\n        vertical-align: middle;\n    }\n\n    .dataframe tbody tr th {\n        vertical-align: top;\n    }\n\n    .dataframe thead th {\n        text-align: right;\n    }\n</style>\n<table border=\"1\" class=\"dataframe\">\n  <thead>\n    <tr style=\"text-align: right;\">\n      <th></th>\n      <th>Time</th>\n      <th>Run</th>\n      <th>Type</th>\n      <th>Dimension</th>\n      <th>LogTime</th>\n    </tr>\n  </thead>\n  <tbody>\n    <tr>\n      <th>1</th>\n      <td>0.000069</td>\n      <td>1</td>\n      <td>Numpy FFT</td>\n      <td>3</td>\n      <td>-4.161762</td>\n    </tr>\n    <tr>\n      <th>2</th>\n      <td>0.000080</td>\n      <td>1</td>\n      <td>Numpy FFT</td>\n      <td>4</td>\n      <td>-4.097615</td>\n    </tr>\n    <tr>\n      <th>3</th>\n      <td>0.000110</td>\n      <td>1</td>\n      <td>Numpy FFT</td>\n      <td>5</td>\n      <td>-3.958959</td>\n    </tr>\n    <tr>\n      <th>4</th>\n      <td>0.000132</td>\n      <td>1</td>\n      <td>Numpy FFT</td>\n      <td>6</td>\n      <td>-3.878367</td>\n    </tr>\n    <tr>\n      <th>5</th>\n      <td>0.000336</td>\n      <td>1</td>\n      <td>Numpy FFT</td>\n      <td>7</td>\n      <td>-3.473749</td>\n    </tr>\n  </tbody>\n</table>\n</div>"
     },
     "execution_count": 21,
     "metadata": {},
     "output_type": "execute_result"
    }
   ],
   "source": [
    "valid_data = data.query(f'Dimension >= {DIMENSION_THLD} or Type == \"HomeMade DCT\"')\n",
    "invalid_data = data.query(f'Dimension < {DIMENSION_THLD} and Type == \"Numpy FFT\"')\n",
    "assert len(valid_data) + len(invalid_data) == len(data)\n",
    "invalid_data.head()"
   ],
   "metadata": {
    "collapsed": false,
    "pycharm": {
     "name": "#%%\n"
    }
   }
  },
  {
   "cell_type": "code",
   "execution_count": 22,
   "outputs": [
    {
     "data": {
      "application/vnd.plotly.v1+json": {
       "config": {
        "plotlyServerURL": "https://plot.ly"
       },
       "data": [
        {
         "hovertemplate": "Type=HomeMade DCT<br>Dimension=%{x}<br>LogTime=%{y}<extra></extra>",
         "legendgroup": "HomeMade DCT",
         "marker": {
          "color": "#636efa",
          "symbol": "circle"
         },
         "mode": "markers",
         "name": "Custom DCT",
         "orientation": "v",
         "showlegend": true,
         "type": "scatter",
         "x": [
          4,
          5,
          6,
          7,
          8,
          9,
          10,
          11
         ],
         "xaxis": "x",
         "y": [
          -2.318147834983351,
          -1.3967461335964502,
          -0.5674410222168302,
          0.3013103537329647,
          1.214096100296368,
          2.0827156180756745,
          3.0270377099368417,
          3.9481923129987706
         ],
         "yaxis": "y"
        },
        {
         "hovertemplate": "<b>OLS trendline</b><br>LogTime = 0.89103 * Dimension + -5.89635<br>R<sup>2</sup>=0.999760<br><br>Type=HomeMade DCT<br>Dimension=%{x}<br>LogTime=%{y} <b>(trend)</b><extra></extra>",
         "legendgroup": "HomeMade DCT",
         "marker": {
          "color": "#636efa",
          "symbol": "circle"
         },
         "mode": "lines",
         "name": "Custom DCT",
         "showlegend": false,
         "type": "scatter",
         "x": [
          4,
          5,
          6,
          7,
          8,
          9,
          10,
          11
         ],
         "xaxis": "x",
         "y": [
          -2.332229358677093,
          -1.441198931046352,
          -0.5501685034156116,
          0.3408619242151296,
          1.23189235184587,
          2.1229227794766112,
          3.0139532071073516,
          3.904983634738092
         ],
         "yaxis": "y"
        },
        {
         "hovertemplate": "Type=Numpy FFT<br>Dimension=%{x}<br>LogTime=%{y}<extra></extra>",
         "legendgroup": "Numpy FFT",
         "marker": {
          "color": "#EF553B",
          "symbol": "circle"
         },
         "mode": "markers",
         "name": "Numpy FFT",
         "orientation": "v",
         "showlegend": true,
         "type": "scatter",
         "x": [
          8,
          9,
          10,
          11,
          12,
          13,
          14,
          8,
          9,
          10,
          11,
          12,
          13,
          14,
          8,
          9,
          10,
          11,
          12,
          13,
          14,
          8,
          9,
          10,
          11,
          12,
          13,
          14,
          8,
          9,
          10,
          11,
          12,
          13,
          14,
          8,
          9,
          10,
          11,
          12,
          13,
          14,
          8,
          9,
          10,
          11,
          12,
          13,
          14,
          8,
          9,
          10,
          11,
          12,
          13,
          14,
          8,
          9,
          10,
          11,
          12,
          13,
          14,
          8,
          9,
          10,
          11,
          12,
          13,
          14
         ],
         "xaxis": "x",
         "y": [
          -2.726795553360287,
          -2.076438145356677,
          -1.4567126084703996,
          -0.7742774002293065,
          -0.0991567888893899,
          0.5621972077519524,
          1.4559122326826193,
          -2.372606035085787,
          -1.8171522500316009,
          -1.4881959130732978,
          -0.7344152433150213,
          -0.11453302062305884,
          0.5736653966966623,
          1.54292843763198,
          -2.4375712618496665,
          -1.987749563605875,
          -1.4612619520617893,
          -0.739468783932862,
          -0.11343250853705518,
          0.5608461025721401,
          1.2972495834122206,
          -2.642474667660251,
          -2.177102402176219,
          -1.452964902285011,
          -0.758662330191593,
          -0.09555714722030555,
          0.56946706566542,
          1.4926243077304073,
          -2.616022745539,
          -1.9527203928396288,
          -1.44257705943005,
          -0.7445921726342241,
          -0.09101496553032322,
          0.555038682440212,
          1.401407382841052,
          -2.7272373585681784,
          -2.0252060604398285,
          -1.4912433593101881,
          -0.7256830924164671,
          -0.11845894585457205,
          0.5582875126998622,
          1.4089476632668643,
          -2.6534304247449434,
          -2.181829506206304,
          -1.4525331936141808,
          -0.7725426178384184,
          -0.1198183541069304,
          0.551387423880363,
          1.4973025802254563,
          -2.5738298180792363,
          -2.075303701431235,
          -1.4674149874314002,
          -0.7376347141801275,
          -0.10923200240259576,
          0.5474238016061237,
          1.2443712959854525,
          -2.755251348084795,
          -2.1027007238555178,
          -1.4999559242893807,
          -0.7722906281059514,
          -0.12133809005836627,
          0.5547881691584199,
          1.3759504077102205,
          -2.6794127794697244,
          -1.9594679954466936,
          -1.4861708115149224,
          -0.7947177666791608,
          -0.1352806827327031,
          0.5404543695333258,
          1.3755950559661374
         ],
         "yaxis": "y"
        },
        {
         "hovertemplate": "<b>OLS trendline</b><br>LogTime = 0.665252 * Dimension + -8.03556<br>R<sup>2</sup>=0.993889<br><br>Type=Numpy FFT<br>Dimension=%{x}<br>LogTime=%{y} <b>(trend)</b><extra></extra>",
         "legendgroup": "Numpy FFT",
         "marker": {
          "color": "#EF553B",
          "symbol": "circle"
         },
         "mode": "lines",
         "name": "Numpy FFT",
         "showlegend": false,
         "type": "scatter",
         "x": [
          8,
          8,
          8,
          8,
          8,
          8,
          8,
          8,
          8,
          8,
          9,
          9,
          9,
          9,
          9,
          9,
          9,
          9,
          9,
          9,
          10,
          10,
          10,
          10,
          10,
          10,
          10,
          10,
          10,
          10,
          11,
          11,
          11,
          11,
          11,
          11,
          11,
          11,
          11,
          11,
          12,
          12,
          12,
          12,
          12,
          12,
          12,
          12,
          12,
          12,
          13,
          13,
          13,
          13,
          13,
          13,
          13,
          13,
          13,
          13,
          14,
          14,
          14,
          14,
          14,
          14,
          14,
          14,
          14,
          14
         ],
         "xaxis": "x",
         "y": [
          -2.7135487714332944,
          -2.7135487714332944,
          -2.7135487714332944,
          -2.7135487714332944,
          -2.7135487714332944,
          -2.7135487714332944,
          -2.7135487714332944,
          -2.7135487714332944,
          -2.7135487714332944,
          -2.7135487714332944,
          -2.0482972572475937,
          -2.0482972572475937,
          -2.0482972572475937,
          -2.0482972572475937,
          -2.0482972572475937,
          -2.0482972572475937,
          -2.0482972572475937,
          -2.0482972572475937,
          -2.0482972572475937,
          -2.0482972572475937,
          -1.383045743061893,
          -1.383045743061893,
          -1.383045743061893,
          -1.383045743061893,
          -1.383045743061893,
          -1.383045743061893,
          -1.383045743061893,
          -1.383045743061893,
          -1.383045743061893,
          -1.383045743061893,
          -0.7177942288761923,
          -0.7177942288761923,
          -0.7177942288761923,
          -0.7177942288761923,
          -0.7177942288761923,
          -0.7177942288761923,
          -0.7177942288761923,
          -0.7177942288761923,
          -0.7177942288761923,
          -0.7177942288761923,
          -0.052542714690490655,
          -0.052542714690490655,
          -0.052542714690490655,
          -0.052542714690490655,
          -0.052542714690490655,
          -0.052542714690490655,
          -0.052542714690490655,
          -0.052542714690490655,
          -0.052542714690490655,
          -0.052542714690490655,
          0.6127087994952092,
          0.6127087994952092,
          0.6127087994952092,
          0.6127087994952092,
          0.6127087994952092,
          0.6127087994952092,
          0.6127087994952092,
          0.6127087994952092,
          0.6127087994952092,
          0.6127087994952092,
          1.2779603136809108,
          1.2779603136809108,
          1.2779603136809108,
          1.2779603136809108,
          1.2779603136809108,
          1.2779603136809108,
          1.2779603136809108,
          1.2779603136809108,
          1.2779603136809108,
          1.2779603136809108
         ],
         "yaxis": "y"
        },
        {
         "marker": {
          "color": "#EF553B"
         },
         "mode": "markers",
         "name": "Numpy FFT (low dim)",
         "showlegend": false,
         "type": "scatter",
         "x": [
          3,
          4,
          5,
          6,
          7,
          3,
          4,
          5,
          6,
          7,
          3,
          4,
          5,
          6,
          7,
          3,
          4,
          5,
          6,
          7,
          3,
          4,
          5,
          6,
          7,
          3,
          4,
          5,
          6,
          7,
          3,
          4,
          5,
          6,
          7,
          3,
          4,
          5,
          6,
          7,
          3,
          4,
          5,
          6,
          7,
          3,
          4,
          5,
          6,
          7
         ],
         "y": [
          -4.1617620618510385,
          -4.097615097570741,
          -3.9589589792179383,
          -3.87836692148491,
          -3.47374891149823,
          -2.42055319321735,
          -3.9665617025947544,
          -2.6417025883779663,
          -3.32973960500758,
          -3.5212565540522553,
          -2.6732211035710822,
          -2.9129660348797946,
          -3.5526220379998312,
          -3.2882061534566556,
          -3.351283032713512,
          -3.487845534287126,
          -3.9468815629335015,
          -3.9665617025947544,
          -3.6912020339185814,
          -3.247179189989014,
          -2.8807208268783873,
          -3.747598641215886,
          -3.3937464986128982,
          -3.280039862054238,
          -3.2556769286297356,
          -2.8751704123489135,
          -3.7844406826999606,
          -3.7141748857289367,
          -2.74224650472967,
          -3.1383600652608004,
          -2.658919285749702,
          -3.7035818122315125,
          -3.6217921830763595,
          -2.8510724237263307,
          -3.321412815971375,
          -3.303345600517074,
          -3.8992042325724006,
          -2.4635741908932407,
          -2.528538308767025,
          -3.415564364188368,
          -2.7456919371750015,
          -3.9902026124228622,
          -2.873542242251264,
          -2.8432077212035245,
          -3.3259947143460553,
          -2.9601854008572768,
          -4.060367040151111,
          -3.838042611974711,
          -3.4752927968138,
          -3.2965289478967916
         ]
        }
       ],
       "layout": {
        "legend": {
         "title": {
          "text": "Method"
         },
         "tracegroupgap": 0
        },
        "margin": {
         "t": 60
        },
        "template": {
         "data": {
          "bar": [
           {
            "error_x": {
             "color": "#2a3f5f"
            },
            "error_y": {
             "color": "#2a3f5f"
            },
            "marker": {
             "line": {
              "color": "#E5ECF6",
              "width": 0.5
             }
            },
            "type": "bar"
           }
          ],
          "barpolar": [
           {
            "marker": {
             "line": {
              "color": "#E5ECF6",
              "width": 0.5
             }
            },
            "type": "barpolar"
           }
          ],
          "carpet": [
           {
            "aaxis": {
             "endlinecolor": "#2a3f5f",
             "gridcolor": "white",
             "linecolor": "white",
             "minorgridcolor": "white",
             "startlinecolor": "#2a3f5f"
            },
            "baxis": {
             "endlinecolor": "#2a3f5f",
             "gridcolor": "white",
             "linecolor": "white",
             "minorgridcolor": "white",
             "startlinecolor": "#2a3f5f"
            },
            "type": "carpet"
           }
          ],
          "choropleth": [
           {
            "colorbar": {
             "outlinewidth": 0,
             "ticks": ""
            },
            "type": "choropleth"
           }
          ],
          "contour": [
           {
            "colorbar": {
             "outlinewidth": 0,
             "ticks": ""
            },
            "colorscale": [
             [
              0.0,
              "#0d0887"
             ],
             [
              0.1111111111111111,
              "#46039f"
             ],
             [
              0.2222222222222222,
              "#7201a8"
             ],
             [
              0.3333333333333333,
              "#9c179e"
             ],
             [
              0.4444444444444444,
              "#bd3786"
             ],
             [
              0.5555555555555556,
              "#d8576b"
             ],
             [
              0.6666666666666666,
              "#ed7953"
             ],
             [
              0.7777777777777778,
              "#fb9f3a"
             ],
             [
              0.8888888888888888,
              "#fdca26"
             ],
             [
              1.0,
              "#f0f921"
             ]
            ],
            "type": "contour"
           }
          ],
          "contourcarpet": [
           {
            "colorbar": {
             "outlinewidth": 0,
             "ticks": ""
            },
            "type": "contourcarpet"
           }
          ],
          "heatmap": [
           {
            "colorbar": {
             "outlinewidth": 0,
             "ticks": ""
            },
            "colorscale": [
             [
              0.0,
              "#0d0887"
             ],
             [
              0.1111111111111111,
              "#46039f"
             ],
             [
              0.2222222222222222,
              "#7201a8"
             ],
             [
              0.3333333333333333,
              "#9c179e"
             ],
             [
              0.4444444444444444,
              "#bd3786"
             ],
             [
              0.5555555555555556,
              "#d8576b"
             ],
             [
              0.6666666666666666,
              "#ed7953"
             ],
             [
              0.7777777777777778,
              "#fb9f3a"
             ],
             [
              0.8888888888888888,
              "#fdca26"
             ],
             [
              1.0,
              "#f0f921"
             ]
            ],
            "type": "heatmap"
           }
          ],
          "heatmapgl": [
           {
            "colorbar": {
             "outlinewidth": 0,
             "ticks": ""
            },
            "colorscale": [
             [
              0.0,
              "#0d0887"
             ],
             [
              0.1111111111111111,
              "#46039f"
             ],
             [
              0.2222222222222222,
              "#7201a8"
             ],
             [
              0.3333333333333333,
              "#9c179e"
             ],
             [
              0.4444444444444444,
              "#bd3786"
             ],
             [
              0.5555555555555556,
              "#d8576b"
             ],
             [
              0.6666666666666666,
              "#ed7953"
             ],
             [
              0.7777777777777778,
              "#fb9f3a"
             ],
             [
              0.8888888888888888,
              "#fdca26"
             ],
             [
              1.0,
              "#f0f921"
             ]
            ],
            "type": "heatmapgl"
           }
          ],
          "histogram": [
           {
            "marker": {
             "colorbar": {
              "outlinewidth": 0,
              "ticks": ""
             }
            },
            "type": "histogram"
           }
          ],
          "histogram2d": [
           {
            "colorbar": {
             "outlinewidth": 0,
             "ticks": ""
            },
            "colorscale": [
             [
              0.0,
              "#0d0887"
             ],
             [
              0.1111111111111111,
              "#46039f"
             ],
             [
              0.2222222222222222,
              "#7201a8"
             ],
             [
              0.3333333333333333,
              "#9c179e"
             ],
             [
              0.4444444444444444,
              "#bd3786"
             ],
             [
              0.5555555555555556,
              "#d8576b"
             ],
             [
              0.6666666666666666,
              "#ed7953"
             ],
             [
              0.7777777777777778,
              "#fb9f3a"
             ],
             [
              0.8888888888888888,
              "#fdca26"
             ],
             [
              1.0,
              "#f0f921"
             ]
            ],
            "type": "histogram2d"
           }
          ],
          "histogram2dcontour": [
           {
            "colorbar": {
             "outlinewidth": 0,
             "ticks": ""
            },
            "colorscale": [
             [
              0.0,
              "#0d0887"
             ],
             [
              0.1111111111111111,
              "#46039f"
             ],
             [
              0.2222222222222222,
              "#7201a8"
             ],
             [
              0.3333333333333333,
              "#9c179e"
             ],
             [
              0.4444444444444444,
              "#bd3786"
             ],
             [
              0.5555555555555556,
              "#d8576b"
             ],
             [
              0.6666666666666666,
              "#ed7953"
             ],
             [
              0.7777777777777778,
              "#fb9f3a"
             ],
             [
              0.8888888888888888,
              "#fdca26"
             ],
             [
              1.0,
              "#f0f921"
             ]
            ],
            "type": "histogram2dcontour"
           }
          ],
          "mesh3d": [
           {
            "colorbar": {
             "outlinewidth": 0,
             "ticks": ""
            },
            "type": "mesh3d"
           }
          ],
          "parcoords": [
           {
            "line": {
             "colorbar": {
              "outlinewidth": 0,
              "ticks": ""
             }
            },
            "type": "parcoords"
           }
          ],
          "pie": [
           {
            "automargin": true,
            "type": "pie"
           }
          ],
          "scatter": [
           {
            "marker": {
             "colorbar": {
              "outlinewidth": 0,
              "ticks": ""
             }
            },
            "type": "scatter"
           }
          ],
          "scatter3d": [
           {
            "line": {
             "colorbar": {
              "outlinewidth": 0,
              "ticks": ""
             }
            },
            "marker": {
             "colorbar": {
              "outlinewidth": 0,
              "ticks": ""
             }
            },
            "type": "scatter3d"
           }
          ],
          "scattercarpet": [
           {
            "marker": {
             "colorbar": {
              "outlinewidth": 0,
              "ticks": ""
             }
            },
            "type": "scattercarpet"
           }
          ],
          "scattergeo": [
           {
            "marker": {
             "colorbar": {
              "outlinewidth": 0,
              "ticks": ""
             }
            },
            "type": "scattergeo"
           }
          ],
          "scattergl": [
           {
            "marker": {
             "colorbar": {
              "outlinewidth": 0,
              "ticks": ""
             }
            },
            "type": "scattergl"
           }
          ],
          "scattermapbox": [
           {
            "marker": {
             "colorbar": {
              "outlinewidth": 0,
              "ticks": ""
             }
            },
            "type": "scattermapbox"
           }
          ],
          "scatterpolar": [
           {
            "marker": {
             "colorbar": {
              "outlinewidth": 0,
              "ticks": ""
             }
            },
            "type": "scatterpolar"
           }
          ],
          "scatterpolargl": [
           {
            "marker": {
             "colorbar": {
              "outlinewidth": 0,
              "ticks": ""
             }
            },
            "type": "scatterpolargl"
           }
          ],
          "scatterternary": [
           {
            "marker": {
             "colorbar": {
              "outlinewidth": 0,
              "ticks": ""
             }
            },
            "type": "scatterternary"
           }
          ],
          "surface": [
           {
            "colorbar": {
             "outlinewidth": 0,
             "ticks": ""
            },
            "colorscale": [
             [
              0.0,
              "#0d0887"
             ],
             [
              0.1111111111111111,
              "#46039f"
             ],
             [
              0.2222222222222222,
              "#7201a8"
             ],
             [
              0.3333333333333333,
              "#9c179e"
             ],
             [
              0.4444444444444444,
              "#bd3786"
             ],
             [
              0.5555555555555556,
              "#d8576b"
             ],
             [
              0.6666666666666666,
              "#ed7953"
             ],
             [
              0.7777777777777778,
              "#fb9f3a"
             ],
             [
              0.8888888888888888,
              "#fdca26"
             ],
             [
              1.0,
              "#f0f921"
             ]
            ],
            "type": "surface"
           }
          ],
          "table": [
           {
            "cells": {
             "fill": {
              "color": "#EBF0F8"
             },
             "line": {
              "color": "white"
             }
            },
            "header": {
             "fill": {
              "color": "#C8D4E3"
             },
             "line": {
              "color": "white"
             }
            },
            "type": "table"
           }
          ]
         },
         "layout": {
          "annotationdefaults": {
           "arrowcolor": "#2a3f5f",
           "arrowhead": 0,
           "arrowwidth": 1
          },
          "autotypenumbers": "strict",
          "coloraxis": {
           "colorbar": {
            "outlinewidth": 0,
            "ticks": ""
           }
          },
          "colorscale": {
           "diverging": [
            [
             0,
             "#8e0152"
            ],
            [
             0.1,
             "#c51b7d"
            ],
            [
             0.2,
             "#de77ae"
            ],
            [
             0.3,
             "#f1b6da"
            ],
            [
             0.4,
             "#fde0ef"
            ],
            [
             0.5,
             "#f7f7f7"
            ],
            [
             0.6,
             "#e6f5d0"
            ],
            [
             0.7,
             "#b8e186"
            ],
            [
             0.8,
             "#7fbc41"
            ],
            [
             0.9,
             "#4d9221"
            ],
            [
             1,
             "#276419"
            ]
           ],
           "sequential": [
            [
             0.0,
             "#0d0887"
            ],
            [
             0.1111111111111111,
             "#46039f"
            ],
            [
             0.2222222222222222,
             "#7201a8"
            ],
            [
             0.3333333333333333,
             "#9c179e"
            ],
            [
             0.4444444444444444,
             "#bd3786"
            ],
            [
             0.5555555555555556,
             "#d8576b"
            ],
            [
             0.6666666666666666,
             "#ed7953"
            ],
            [
             0.7777777777777778,
             "#fb9f3a"
            ],
            [
             0.8888888888888888,
             "#fdca26"
            ],
            [
             1.0,
             "#f0f921"
            ]
           ],
           "sequentialminus": [
            [
             0.0,
             "#0d0887"
            ],
            [
             0.1111111111111111,
             "#46039f"
            ],
            [
             0.2222222222222222,
             "#7201a8"
            ],
            [
             0.3333333333333333,
             "#9c179e"
            ],
            [
             0.4444444444444444,
             "#bd3786"
            ],
            [
             0.5555555555555556,
             "#d8576b"
            ],
            [
             0.6666666666666666,
             "#ed7953"
            ],
            [
             0.7777777777777778,
             "#fb9f3a"
            ],
            [
             0.8888888888888888,
             "#fdca26"
            ],
            [
             1.0,
             "#f0f921"
            ]
           ]
          },
          "colorway": [
           "#636efa",
           "#EF553B",
           "#00cc96",
           "#ab63fa",
           "#FFA15A",
           "#19d3f3",
           "#FF6692",
           "#B6E880",
           "#FF97FF",
           "#FECB52"
          ],
          "font": {
           "color": "#2a3f5f"
          },
          "geo": {
           "bgcolor": "white",
           "lakecolor": "white",
           "landcolor": "#E5ECF6",
           "showlakes": true,
           "showland": true,
           "subunitcolor": "white"
          },
          "hoverlabel": {
           "align": "left"
          },
          "hovermode": "closest",
          "mapbox": {
           "style": "light"
          },
          "paper_bgcolor": "white",
          "plot_bgcolor": "#E5ECF6",
          "polar": {
           "angularaxis": {
            "gridcolor": "white",
            "linecolor": "white",
            "ticks": ""
           },
           "bgcolor": "#E5ECF6",
           "radialaxis": {
            "gridcolor": "white",
            "linecolor": "white",
            "ticks": ""
           }
          },
          "scene": {
           "xaxis": {
            "backgroundcolor": "#E5ECF6",
            "gridcolor": "white",
            "gridwidth": 2,
            "linecolor": "white",
            "showbackground": true,
            "ticks": "",
            "zerolinecolor": "white"
           },
           "yaxis": {
            "backgroundcolor": "#E5ECF6",
            "gridcolor": "white",
            "gridwidth": 2,
            "linecolor": "white",
            "showbackground": true,
            "ticks": "",
            "zerolinecolor": "white"
           },
           "zaxis": {
            "backgroundcolor": "#E5ECF6",
            "gridcolor": "white",
            "gridwidth": 2,
            "linecolor": "white",
            "showbackground": true,
            "ticks": "",
            "zerolinecolor": "white"
           }
          },
          "shapedefaults": {
           "line": {
            "color": "#2a3f5f"
           }
          },
          "ternary": {
           "aaxis": {
            "gridcolor": "white",
            "linecolor": "white",
            "ticks": ""
           },
           "baxis": {
            "gridcolor": "white",
            "linecolor": "white",
            "ticks": ""
           },
           "bgcolor": "#E5ECF6",
           "caxis": {
            "gridcolor": "white",
            "linecolor": "white",
            "ticks": ""
           }
          },
          "title": {
           "x": 0.05
          },
          "xaxis": {
           "automargin": true,
           "gridcolor": "white",
           "linecolor": "white",
           "ticks": "",
           "title": {
            "standoff": 15
           },
           "zerolinecolor": "white",
           "zerolinewidth": 2
          },
          "yaxis": {
           "automargin": true,
           "gridcolor": "white",
           "linecolor": "white",
           "ticks": "",
           "title": {
            "standoff": 15
           },
           "zerolinecolor": "white",
           "zerolinewidth": 2
          }
         }
        },
        "title": {
         "text": "Numpy FFT vs Custom DCT time comparison",
         "x": 0.5,
         "xanchor": "center"
        },
        "xaxis": {
         "anchor": "y",
         "domain": [
          0.0,
          1.0
         ],
         "tickmode": "array",
         "ticktext": [
          "$2^{2}$",
          "$2^{3}$",
          "$2^{4}$",
          "$2^{5}$",
          "$2^{6}$",
          "$2^{7}$",
          "$2^{8}$",
          "$2^{9}$",
          "$2^{10}$",
          "$2^{11}$",
          "$2^{12}$",
          "$2^{13}$",
          "$2^{14}$"
         ],
         "tickvals": [
          2,
          3,
          4,
          5,
          6,
          7,
          8,
          9,
          10,
          11,
          12,
          13,
          14
         ],
         "title": {
          "text": "Matrix dimension"
         }
        },
        "yaxis": {
         "anchor": "x",
         "domain": [
          0.0,
          1.0
         ],
         "tickmode": "array",
         "ticktext": [
          "$10^{-4}$",
          "$10^{-3}$",
          "$10^{-2}$",
          "$10^{-1}$",
          "$10^{0}$",
          "$10^{1}$",
          "$10^{2}$",
          "$10^{3}$",
          "$10^{4}$"
         ],
         "tickvals": [
          -4,
          -3,
          -2,
          -1,
          0,
          1,
          2,
          3,
          4
         ],
         "title": {
          "text": "Time (s)"
         }
        }
       }
      },
      "text/html": "<div>                            <div id=\"3235e354-374e-40ec-ba46-01db76bd1a95\" class=\"plotly-graph-div\" style=\"height:525px; width:100%;\"></div>            <script type=\"text/javascript\">                require([\"plotly\"], function(Plotly) {                    window.PLOTLYENV=window.PLOTLYENV || {};                                    if (document.getElementById(\"3235e354-374e-40ec-ba46-01db76bd1a95\")) {                    Plotly.newPlot(                        \"3235e354-374e-40ec-ba46-01db76bd1a95\",                        [{\"hovertemplate\": \"Type=HomeMade DCT<br>Dimension=%{x}<br>LogTime=%{y}<extra></extra>\", \"legendgroup\": \"HomeMade DCT\", \"marker\": {\"color\": \"#636efa\", \"symbol\": \"circle\"}, \"mode\": \"markers\", \"name\": \"Custom DCT\", \"orientation\": \"v\", \"showlegend\": true, \"type\": \"scatter\", \"x\": [4, 5, 6, 7, 8, 9, 10, 11], \"xaxis\": \"x\", \"y\": [-2.318147834983351, -1.3967461335964502, -0.5674410222168302, 0.3013103537329647, 1.214096100296368, 2.0827156180756745, 3.0270377099368417, 3.9481923129987706], \"yaxis\": \"y\"}, {\"hovertemplate\": \"<b>OLS trendline</b><br>LogTime = 0.89103 * Dimension + -5.89635<br>R<sup>2</sup>=0.999760<br><br>Type=HomeMade DCT<br>Dimension=%{x}<br>LogTime=%{y} <b>(trend)</b><extra></extra>\", \"legendgroup\": \"HomeMade DCT\", \"marker\": {\"color\": \"#636efa\", \"symbol\": \"circle\"}, \"mode\": \"lines\", \"name\": \"Custom DCT\", \"showlegend\": false, \"type\": \"scatter\", \"x\": [4, 5, 6, 7, 8, 9, 10, 11], \"xaxis\": \"x\", \"y\": [-2.332229358677093, -1.441198931046352, -0.5501685034156116, 0.3408619242151296, 1.23189235184587, 2.1229227794766112, 3.0139532071073516, 3.904983634738092], \"yaxis\": \"y\"}, {\"hovertemplate\": \"Type=Numpy FFT<br>Dimension=%{x}<br>LogTime=%{y}<extra></extra>\", \"legendgroup\": \"Numpy FFT\", \"marker\": {\"color\": \"#EF553B\", \"symbol\": \"circle\"}, \"mode\": \"markers\", \"name\": \"Numpy FFT\", \"orientation\": \"v\", \"showlegend\": true, \"type\": \"scatter\", \"x\": [8, 9, 10, 11, 12, 13, 14, 8, 9, 10, 11, 12, 13, 14, 8, 9, 10, 11, 12, 13, 14, 8, 9, 10, 11, 12, 13, 14, 8, 9, 10, 11, 12, 13, 14, 8, 9, 10, 11, 12, 13, 14, 8, 9, 10, 11, 12, 13, 14, 8, 9, 10, 11, 12, 13, 14, 8, 9, 10, 11, 12, 13, 14, 8, 9, 10, 11, 12, 13, 14], \"xaxis\": \"x\", \"y\": [-2.726795553360287, -2.076438145356677, -1.4567126084703996, -0.7742774002293065, -0.0991567888893899, 0.5621972077519524, 1.4559122326826193, -2.372606035085787, -1.8171522500316009, -1.4881959130732978, -0.7344152433150213, -0.11453302062305884, 0.5736653966966623, 1.54292843763198, -2.4375712618496665, -1.987749563605875, -1.4612619520617893, -0.739468783932862, -0.11343250853705518, 0.5608461025721401, 1.2972495834122206, -2.642474667660251, -2.177102402176219, -1.452964902285011, -0.758662330191593, -0.09555714722030555, 0.56946706566542, 1.4926243077304073, -2.616022745539, -1.9527203928396288, -1.44257705943005, -0.7445921726342241, -0.09101496553032322, 0.555038682440212, 1.401407382841052, -2.7272373585681784, -2.0252060604398285, -1.4912433593101881, -0.7256830924164671, -0.11845894585457205, 0.5582875126998622, 1.4089476632668643, -2.6534304247449434, -2.181829506206304, -1.4525331936141808, -0.7725426178384184, -0.1198183541069304, 0.551387423880363, 1.4973025802254563, -2.5738298180792363, -2.075303701431235, -1.4674149874314002, -0.7376347141801275, -0.10923200240259576, 0.5474238016061237, 1.2443712959854525, -2.755251348084795, -2.1027007238555178, -1.4999559242893807, -0.7722906281059514, -0.12133809005836627, 0.5547881691584199, 1.3759504077102205, -2.6794127794697244, -1.9594679954466936, -1.4861708115149224, -0.7947177666791608, -0.1352806827327031, 0.5404543695333258, 1.3755950559661374], \"yaxis\": \"y\"}, {\"hovertemplate\": \"<b>OLS trendline</b><br>LogTime = 0.665252 * Dimension + -8.03556<br>R<sup>2</sup>=0.993889<br><br>Type=Numpy FFT<br>Dimension=%{x}<br>LogTime=%{y} <b>(trend)</b><extra></extra>\", \"legendgroup\": \"Numpy FFT\", \"marker\": {\"color\": \"#EF553B\", \"symbol\": \"circle\"}, \"mode\": \"lines\", \"name\": \"Numpy FFT\", \"showlegend\": false, \"type\": \"scatter\", \"x\": [8, 8, 8, 8, 8, 8, 8, 8, 8, 8, 9, 9, 9, 9, 9, 9, 9, 9, 9, 9, 10, 10, 10, 10, 10, 10, 10, 10, 10, 10, 11, 11, 11, 11, 11, 11, 11, 11, 11, 11, 12, 12, 12, 12, 12, 12, 12, 12, 12, 12, 13, 13, 13, 13, 13, 13, 13, 13, 13, 13, 14, 14, 14, 14, 14, 14, 14, 14, 14, 14], \"xaxis\": \"x\", \"y\": [-2.7135487714332944, -2.7135487714332944, -2.7135487714332944, -2.7135487714332944, -2.7135487714332944, -2.7135487714332944, -2.7135487714332944, -2.7135487714332944, -2.7135487714332944, -2.7135487714332944, -2.0482972572475937, -2.0482972572475937, -2.0482972572475937, -2.0482972572475937, -2.0482972572475937, -2.0482972572475937, -2.0482972572475937, -2.0482972572475937, -2.0482972572475937, -2.0482972572475937, -1.383045743061893, -1.383045743061893, -1.383045743061893, -1.383045743061893, -1.383045743061893, -1.383045743061893, -1.383045743061893, -1.383045743061893, -1.383045743061893, -1.383045743061893, -0.7177942288761923, -0.7177942288761923, -0.7177942288761923, -0.7177942288761923, -0.7177942288761923, -0.7177942288761923, -0.7177942288761923, -0.7177942288761923, -0.7177942288761923, -0.7177942288761923, -0.052542714690490655, -0.052542714690490655, -0.052542714690490655, -0.052542714690490655, -0.052542714690490655, -0.052542714690490655, -0.052542714690490655, -0.052542714690490655, -0.052542714690490655, -0.052542714690490655, 0.6127087994952092, 0.6127087994952092, 0.6127087994952092, 0.6127087994952092, 0.6127087994952092, 0.6127087994952092, 0.6127087994952092, 0.6127087994952092, 0.6127087994952092, 0.6127087994952092, 1.2779603136809108, 1.2779603136809108, 1.2779603136809108, 1.2779603136809108, 1.2779603136809108, 1.2779603136809108, 1.2779603136809108, 1.2779603136809108, 1.2779603136809108, 1.2779603136809108], \"yaxis\": \"y\"}, {\"marker\": {\"color\": \"#EF553B\"}, \"mode\": \"markers\", \"name\": \"Numpy FFT (low dim)\", \"showlegend\": false, \"type\": \"scatter\", \"x\": [3, 4, 5, 6, 7, 3, 4, 5, 6, 7, 3, 4, 5, 6, 7, 3, 4, 5, 6, 7, 3, 4, 5, 6, 7, 3, 4, 5, 6, 7, 3, 4, 5, 6, 7, 3, 4, 5, 6, 7, 3, 4, 5, 6, 7, 3, 4, 5, 6, 7], \"y\": [-4.1617620618510385, -4.097615097570741, -3.9589589792179383, -3.87836692148491, -3.47374891149823, -2.42055319321735, -3.9665617025947544, -2.6417025883779663, -3.32973960500758, -3.5212565540522553, -2.6732211035710822, -2.9129660348797946, -3.5526220379998312, -3.2882061534566556, -3.351283032713512, -3.487845534287126, -3.9468815629335015, -3.9665617025947544, -3.6912020339185814, -3.247179189989014, -2.8807208268783873, -3.747598641215886, -3.3937464986128982, -3.280039862054238, -3.2556769286297356, -2.8751704123489135, -3.7844406826999606, -3.7141748857289367, -2.74224650472967, -3.1383600652608004, -2.658919285749702, -3.7035818122315125, -3.6217921830763595, -2.8510724237263307, -3.321412815971375, -3.303345600517074, -3.8992042325724006, -2.4635741908932407, -2.528538308767025, -3.415564364188368, -2.7456919371750015, -3.9902026124228622, -2.873542242251264, -2.8432077212035245, -3.3259947143460553, -2.9601854008572768, -4.060367040151111, -3.838042611974711, -3.4752927968138, -3.2965289478967916]}],                        {\"legend\": {\"title\": {\"text\": \"Method\"}, \"tracegroupgap\": 0}, \"margin\": {\"t\": 60}, \"template\": {\"data\": {\"bar\": [{\"error_x\": {\"color\": \"#2a3f5f\"}, \"error_y\": {\"color\": \"#2a3f5f\"}, \"marker\": {\"line\": {\"color\": \"#E5ECF6\", \"width\": 0.5}}, \"type\": \"bar\"}], \"barpolar\": [{\"marker\": {\"line\": {\"color\": \"#E5ECF6\", \"width\": 0.5}}, \"type\": \"barpolar\"}], \"carpet\": [{\"aaxis\": {\"endlinecolor\": \"#2a3f5f\", \"gridcolor\": \"white\", \"linecolor\": \"white\", \"minorgridcolor\": \"white\", \"startlinecolor\": \"#2a3f5f\"}, \"baxis\": {\"endlinecolor\": \"#2a3f5f\", \"gridcolor\": \"white\", \"linecolor\": \"white\", \"minorgridcolor\": \"white\", \"startlinecolor\": \"#2a3f5f\"}, \"type\": \"carpet\"}], \"choropleth\": [{\"colorbar\": {\"outlinewidth\": 0, \"ticks\": \"\"}, \"type\": \"choropleth\"}], \"contour\": [{\"colorbar\": {\"outlinewidth\": 0, \"ticks\": \"\"}, \"colorscale\": [[0.0, \"#0d0887\"], [0.1111111111111111, \"#46039f\"], [0.2222222222222222, \"#7201a8\"], [0.3333333333333333, \"#9c179e\"], [0.4444444444444444, \"#bd3786\"], [0.5555555555555556, \"#d8576b\"], [0.6666666666666666, \"#ed7953\"], [0.7777777777777778, \"#fb9f3a\"], [0.8888888888888888, \"#fdca26\"], [1.0, \"#f0f921\"]], \"type\": \"contour\"}], \"contourcarpet\": [{\"colorbar\": {\"outlinewidth\": 0, \"ticks\": \"\"}, \"type\": \"contourcarpet\"}], \"heatmap\": [{\"colorbar\": {\"outlinewidth\": 0, \"ticks\": \"\"}, \"colorscale\": [[0.0, \"#0d0887\"], [0.1111111111111111, \"#46039f\"], [0.2222222222222222, \"#7201a8\"], [0.3333333333333333, \"#9c179e\"], [0.4444444444444444, \"#bd3786\"], [0.5555555555555556, \"#d8576b\"], [0.6666666666666666, \"#ed7953\"], [0.7777777777777778, \"#fb9f3a\"], [0.8888888888888888, \"#fdca26\"], [1.0, \"#f0f921\"]], \"type\": \"heatmap\"}], \"heatmapgl\": [{\"colorbar\": {\"outlinewidth\": 0, \"ticks\": \"\"}, \"colorscale\": [[0.0, \"#0d0887\"], [0.1111111111111111, \"#46039f\"], [0.2222222222222222, \"#7201a8\"], [0.3333333333333333, \"#9c179e\"], [0.4444444444444444, \"#bd3786\"], [0.5555555555555556, \"#d8576b\"], [0.6666666666666666, \"#ed7953\"], [0.7777777777777778, \"#fb9f3a\"], [0.8888888888888888, \"#fdca26\"], [1.0, \"#f0f921\"]], \"type\": \"heatmapgl\"}], \"histogram\": [{\"marker\": {\"colorbar\": {\"outlinewidth\": 0, \"ticks\": \"\"}}, \"type\": \"histogram\"}], \"histogram2d\": [{\"colorbar\": {\"outlinewidth\": 0, \"ticks\": \"\"}, \"colorscale\": [[0.0, \"#0d0887\"], [0.1111111111111111, \"#46039f\"], [0.2222222222222222, \"#7201a8\"], [0.3333333333333333, \"#9c179e\"], [0.4444444444444444, \"#bd3786\"], [0.5555555555555556, \"#d8576b\"], [0.6666666666666666, \"#ed7953\"], [0.7777777777777778, \"#fb9f3a\"], [0.8888888888888888, \"#fdca26\"], [1.0, \"#f0f921\"]], \"type\": \"histogram2d\"}], \"histogram2dcontour\": [{\"colorbar\": {\"outlinewidth\": 0, \"ticks\": \"\"}, \"colorscale\": [[0.0, \"#0d0887\"], [0.1111111111111111, \"#46039f\"], [0.2222222222222222, \"#7201a8\"], [0.3333333333333333, \"#9c179e\"], [0.4444444444444444, \"#bd3786\"], [0.5555555555555556, \"#d8576b\"], [0.6666666666666666, \"#ed7953\"], [0.7777777777777778, \"#fb9f3a\"], [0.8888888888888888, \"#fdca26\"], [1.0, \"#f0f921\"]], \"type\": \"histogram2dcontour\"}], \"mesh3d\": [{\"colorbar\": {\"outlinewidth\": 0, \"ticks\": \"\"}, \"type\": \"mesh3d\"}], \"parcoords\": [{\"line\": {\"colorbar\": {\"outlinewidth\": 0, \"ticks\": \"\"}}, \"type\": \"parcoords\"}], \"pie\": [{\"automargin\": true, \"type\": \"pie\"}], \"scatter\": [{\"marker\": {\"colorbar\": {\"outlinewidth\": 0, \"ticks\": \"\"}}, \"type\": \"scatter\"}], \"scatter3d\": [{\"line\": {\"colorbar\": {\"outlinewidth\": 0, \"ticks\": \"\"}}, \"marker\": {\"colorbar\": {\"outlinewidth\": 0, \"ticks\": \"\"}}, \"type\": \"scatter3d\"}], \"scattercarpet\": [{\"marker\": {\"colorbar\": {\"outlinewidth\": 0, \"ticks\": \"\"}}, \"type\": \"scattercarpet\"}], \"scattergeo\": [{\"marker\": {\"colorbar\": {\"outlinewidth\": 0, \"ticks\": \"\"}}, \"type\": \"scattergeo\"}], \"scattergl\": [{\"marker\": {\"colorbar\": {\"outlinewidth\": 0, \"ticks\": \"\"}}, \"type\": \"scattergl\"}], \"scattermapbox\": [{\"marker\": {\"colorbar\": {\"outlinewidth\": 0, \"ticks\": \"\"}}, \"type\": \"scattermapbox\"}], \"scatterpolar\": [{\"marker\": {\"colorbar\": {\"outlinewidth\": 0, \"ticks\": \"\"}}, \"type\": \"scatterpolar\"}], \"scatterpolargl\": [{\"marker\": {\"colorbar\": {\"outlinewidth\": 0, \"ticks\": \"\"}}, \"type\": \"scatterpolargl\"}], \"scatterternary\": [{\"marker\": {\"colorbar\": {\"outlinewidth\": 0, \"ticks\": \"\"}}, \"type\": \"scatterternary\"}], \"surface\": [{\"colorbar\": {\"outlinewidth\": 0, \"ticks\": \"\"}, \"colorscale\": [[0.0, \"#0d0887\"], [0.1111111111111111, \"#46039f\"], [0.2222222222222222, \"#7201a8\"], [0.3333333333333333, \"#9c179e\"], [0.4444444444444444, \"#bd3786\"], [0.5555555555555556, \"#d8576b\"], [0.6666666666666666, \"#ed7953\"], [0.7777777777777778, \"#fb9f3a\"], [0.8888888888888888, \"#fdca26\"], [1.0, \"#f0f921\"]], \"type\": \"surface\"}], \"table\": [{\"cells\": {\"fill\": {\"color\": \"#EBF0F8\"}, \"line\": {\"color\": \"white\"}}, \"header\": {\"fill\": {\"color\": \"#C8D4E3\"}, \"line\": {\"color\": \"white\"}}, \"type\": \"table\"}]}, \"layout\": {\"annotationdefaults\": {\"arrowcolor\": \"#2a3f5f\", \"arrowhead\": 0, \"arrowwidth\": 1}, \"autotypenumbers\": \"strict\", \"coloraxis\": {\"colorbar\": {\"outlinewidth\": 0, \"ticks\": \"\"}}, \"colorscale\": {\"diverging\": [[0, \"#8e0152\"], [0.1, \"#c51b7d\"], [0.2, \"#de77ae\"], [0.3, \"#f1b6da\"], [0.4, \"#fde0ef\"], [0.5, \"#f7f7f7\"], [0.6, \"#e6f5d0\"], [0.7, \"#b8e186\"], [0.8, \"#7fbc41\"], [0.9, \"#4d9221\"], [1, \"#276419\"]], \"sequential\": [[0.0, \"#0d0887\"], [0.1111111111111111, \"#46039f\"], [0.2222222222222222, \"#7201a8\"], [0.3333333333333333, \"#9c179e\"], [0.4444444444444444, \"#bd3786\"], [0.5555555555555556, \"#d8576b\"], [0.6666666666666666, \"#ed7953\"], [0.7777777777777778, \"#fb9f3a\"], [0.8888888888888888, \"#fdca26\"], [1.0, \"#f0f921\"]], \"sequentialminus\": [[0.0, \"#0d0887\"], [0.1111111111111111, \"#46039f\"], [0.2222222222222222, \"#7201a8\"], [0.3333333333333333, \"#9c179e\"], [0.4444444444444444, \"#bd3786\"], [0.5555555555555556, \"#d8576b\"], [0.6666666666666666, \"#ed7953\"], [0.7777777777777778, \"#fb9f3a\"], [0.8888888888888888, \"#fdca26\"], [1.0, \"#f0f921\"]]}, \"colorway\": [\"#636efa\", \"#EF553B\", \"#00cc96\", \"#ab63fa\", \"#FFA15A\", \"#19d3f3\", \"#FF6692\", \"#B6E880\", \"#FF97FF\", \"#FECB52\"], \"font\": {\"color\": \"#2a3f5f\"}, \"geo\": {\"bgcolor\": \"white\", \"lakecolor\": \"white\", \"landcolor\": \"#E5ECF6\", \"showlakes\": true, \"showland\": true, \"subunitcolor\": \"white\"}, \"hoverlabel\": {\"align\": \"left\"}, \"hovermode\": \"closest\", \"mapbox\": {\"style\": \"light\"}, \"paper_bgcolor\": \"white\", \"plot_bgcolor\": \"#E5ECF6\", \"polar\": {\"angularaxis\": {\"gridcolor\": \"white\", \"linecolor\": \"white\", \"ticks\": \"\"}, \"bgcolor\": \"#E5ECF6\", \"radialaxis\": {\"gridcolor\": \"white\", \"linecolor\": \"white\", \"ticks\": \"\"}}, \"scene\": {\"xaxis\": {\"backgroundcolor\": \"#E5ECF6\", \"gridcolor\": \"white\", \"gridwidth\": 2, \"linecolor\": \"white\", \"showbackground\": true, \"ticks\": \"\", \"zerolinecolor\": \"white\"}, \"yaxis\": {\"backgroundcolor\": \"#E5ECF6\", \"gridcolor\": \"white\", \"gridwidth\": 2, \"linecolor\": \"white\", \"showbackground\": true, \"ticks\": \"\", \"zerolinecolor\": \"white\"}, \"zaxis\": {\"backgroundcolor\": \"#E5ECF6\", \"gridcolor\": \"white\", \"gridwidth\": 2, \"linecolor\": \"white\", \"showbackground\": true, \"ticks\": \"\", \"zerolinecolor\": \"white\"}}, \"shapedefaults\": {\"line\": {\"color\": \"#2a3f5f\"}}, \"ternary\": {\"aaxis\": {\"gridcolor\": \"white\", \"linecolor\": \"white\", \"ticks\": \"\"}, \"baxis\": {\"gridcolor\": \"white\", \"linecolor\": \"white\", \"ticks\": \"\"}, \"bgcolor\": \"#E5ECF6\", \"caxis\": {\"gridcolor\": \"white\", \"linecolor\": \"white\", \"ticks\": \"\"}}, \"title\": {\"x\": 0.05}, \"xaxis\": {\"automargin\": true, \"gridcolor\": \"white\", \"linecolor\": \"white\", \"ticks\": \"\", \"title\": {\"standoff\": 15}, \"zerolinecolor\": \"white\", \"zerolinewidth\": 2}, \"yaxis\": {\"automargin\": true, \"gridcolor\": \"white\", \"linecolor\": \"white\", \"ticks\": \"\", \"title\": {\"standoff\": 15}, \"zerolinecolor\": \"white\", \"zerolinewidth\": 2}}}, \"title\": {\"text\": \"Numpy FFT vs Custom DCT time comparison\", \"x\": 0.5, \"xanchor\": \"center\"}, \"xaxis\": {\"anchor\": \"y\", \"domain\": [0.0, 1.0], \"tickmode\": \"array\", \"ticktext\": [\"$2^{2}$\", \"$2^{3}$\", \"$2^{4}$\", \"$2^{5}$\", \"$2^{6}$\", \"$2^{7}$\", \"$2^{8}$\", \"$2^{9}$\", \"$2^{10}$\", \"$2^{11}$\", \"$2^{12}$\", \"$2^{13}$\", \"$2^{14}$\"], \"tickvals\": [2, 3, 4, 5, 6, 7, 8, 9, 10, 11, 12, 13, 14], \"title\": {\"text\": \"Matrix dimension\"}}, \"yaxis\": {\"anchor\": \"x\", \"domain\": [0.0, 1.0], \"tickmode\": \"array\", \"ticktext\": [\"$10^{-4}$\", \"$10^{-3}$\", \"$10^{-2}$\", \"$10^{-1}$\", \"$10^{0}$\", \"$10^{1}$\", \"$10^{2}$\", \"$10^{3}$\", \"$10^{4}$\"], \"tickvals\": [-4, -3, -2, -1, 0, 1, 2, 3, 4], \"title\": {\"text\": \"Time (s)\"}}},                        {\"responsive\": true}                    ).then(function(){\n                            \nvar gd = document.getElementById('3235e354-374e-40ec-ba46-01db76bd1a95');\nvar x = new MutationObserver(function (mutations, observer) {{\n        var display = window.getComputedStyle(gd).display;\n        if (!display || display === 'none') {{\n            console.log([gd, 'removed!']);\n            Plotly.purge(gd);\n            observer.disconnect();\n        }}\n}});\n\n// Listen for the removal of the full notebook cells\nvar notebookContainer = gd.closest('#notebook-container');\nif (notebookContainer) {{\n    x.observe(notebookContainer, {childList: true});\n}}\n\n// Listen for the clearing of the current output cell\nvar outputEl = gd.closest('.output');\nif (outputEl) {{\n    x.observe(outputEl, {childList: true});\n}}\n\n                        })                };                });            </script>        </div>"
     },
     "metadata": {},
     "output_type": "display_data"
    }
   ],
   "source": [
    "fig = px.scatter(valid_data, x=\"Dimension\", y=\"LogTime\", color=\"Type\", trendline=\"ols\")\n",
    "\n",
    "fig.add_trace(go.Scatter(x=invalid_data[\"Dimension\"], y=invalid_data[\"LogTime\"],\n",
    "                         mode='markers', name=\"Numpy FFT (low dim)\"))\n",
    "\n",
    "full_fig = fig.full_figure_for_development(warn=False)\n",
    "min_y, max_y = full_fig.layout.yaxis.range\n",
    "min_y, max_y = int(min_y), int(max_y)\n",
    "min_x, max_x = full_fig.layout.xaxis.range\n",
    "min_x, max_x = int(min_x), int(max_x)\n",
    "\n",
    "fig.update_layout(\n",
    "    title= dict(\n",
    "        text=f'Numpy FFT vs Custom DCT time comparison',\n",
    "        xanchor='center',\n",
    "        x=0.5),\n",
    "    xaxis_title = 'Matrix dimension',\n",
    "    yaxis_title = 'Time (s)',\n",
    "    yaxis = dict(\n",
    "        tickmode = 'array',\n",
    "        tickvals = [x for x in range(min_y, max_y + 1)],\n",
    "        ticktext = ['$10^{}$'.format('{' + str(x) + '}') for x in range(min_y, max_y + 1)],\n",
    "        #ticktext = [10**x for x in range(min_y, max_y + 1)],\n",
    "    ),\n",
    "    xaxis = dict(\n",
    "        tickmode = 'array',\n",
    "        tickvals = [x for x in range(min_x, max_x + 1)],\n",
    "        ticktext = ['$2^{}$'.format('{' + str(x) + '}') for x in range(min_x, max_x + 1)],\n",
    "        #ticktext = [10**x for x in range(min_y, max_y + 1)],\n",
    "    ),\n",
    "    legend=dict(title=\"Method\"),\n",
    ")\n",
    "fig.update_traces(marker=dict(color='#EF553B'), showlegend=False, selector=dict(name=\"Numpy FFT (low dim)\"))\n",
    "fig.update_traces(name=\"Custom DCT\", selector=dict(name=\"HomeMade DCT\"))\n",
    "\n",
    "fig.show()\n",
    "\n",
    "\n",
    "fig.write_image(os.path.join(ASSETS_PATH, 'dct2.png'), scale=SCALE)"
   ],
   "metadata": {
    "collapsed": false,
    "pycharm": {
     "name": "#%%\n"
    }
   }
  },
  {
   "cell_type": "code",
   "execution_count": 23,
   "outputs": [
    {
     "data": {
      "text/plain": "           Type                                     px_fit_results         m  \\\n0  HomeMade DCT  <statsmodels.regression.linear_model.Regressio...  0.891030   \n1     Numpy FFT  <statsmodels.regression.linear_model.Regressio...  0.665252   \n\n          q  \n0 -5.896351  \n1 -8.035561  ",
      "text/html": "<div>\n<style scoped>\n    .dataframe tbody tr th:only-of-type {\n        vertical-align: middle;\n    }\n\n    .dataframe tbody tr th {\n        vertical-align: top;\n    }\n\n    .dataframe thead th {\n        text-align: right;\n    }\n</style>\n<table border=\"1\" class=\"dataframe\">\n  <thead>\n    <tr style=\"text-align: right;\">\n      <th></th>\n      <th>Type</th>\n      <th>px_fit_results</th>\n      <th>m</th>\n      <th>q</th>\n    </tr>\n  </thead>\n  <tbody>\n    <tr>\n      <th>0</th>\n      <td>HomeMade DCT</td>\n      <td>&lt;statsmodels.regression.linear_model.Regressio...</td>\n      <td>0.891030</td>\n      <td>-5.896351</td>\n    </tr>\n    <tr>\n      <th>1</th>\n      <td>Numpy FFT</td>\n      <td>&lt;statsmodels.regression.linear_model.Regressio...</td>\n      <td>0.665252</td>\n      <td>-8.035561</td>\n    </tr>\n  </tbody>\n</table>\n</div>"
     },
     "execution_count": 23,
     "metadata": {},
     "output_type": "execute_result"
    }
   ],
   "source": [
    "def extract_regression_parameters(target_fig):\n",
    "    trend_df = px.get_trendline_results(fig)\n",
    "    trend_df[\"m\"] = trend_df[\"px_fit_results\"].apply(lambda x : x.params[1])\n",
    "    trend_df[\"q\"] = trend_df[\"px_fit_results\"].apply(lambda x : x.params[0])\n",
    "    return trend_df\n",
    "\n",
    "regression_parameters = extract_regression_parameters(fig)\n",
    "regression_parameters"
   ],
   "metadata": {
    "collapsed": false,
    "pycharm": {
     "name": "#%%\n"
    }
   }
  },
  {
   "cell_type": "code",
   "execution_count": 24,
   "outputs": [
    {
     "name": "stdout",
     "output_type": "stream",
     "text": [
      "Theoretical time ratio (2 / 3): 0.6666666666666666\n",
      "Time ratio: 0.7466091993677608\n"
     ]
    }
   ],
   "source": [
    "time_ratio = min(regression_parameters.m) / max(regression_parameters.m)\n",
    "print(f\"Theoretical time ratio (2 / 3): {2 / 3}\")\n",
    "print(f\"Time ratio: {time_ratio}\")"
   ],
   "metadata": {
    "collapsed": false,
    "pycharm": {
     "name": "#%%\n"
    }
   }
  },
  {
   "cell_type": "code",
   "execution_count": 24,
   "outputs": [],
   "source": [],
   "metadata": {
    "collapsed": false,
    "pycharm": {
     "name": "#%%\n"
    }
   }
  }
 ],
 "metadata": {
  "kernelspec": {
   "display_name": "Python 3",
   "language": "python",
   "name": "python3"
  },
  "language_info": {
   "codemirror_mode": {
    "name": "ipython",
    "version": 2
   },
   "file_extension": ".py",
   "mimetype": "text/x-python",
   "name": "python",
   "nbconvert_exporter": "python",
   "pygments_lexer": "ipython2",
   "version": "2.7.6"
  }
 },
 "nbformat": 4,
 "nbformat_minor": 0
}