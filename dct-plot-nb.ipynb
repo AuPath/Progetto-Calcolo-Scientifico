{
 "cells": [
  {
   "cell_type": "code",
   "execution_count": 1,
   "metadata": {
    "collapsed": true
   },
   "outputs": [],
   "source": [
    "import os\n",
    "import numpy as np\n",
    "import matplotlib.pyplot as plt\n",
    "import pandas as pd\n",
    "import seaborn as sns\n",
    "from sklearn.linear_model import LinearRegression"
   ]
  },
  {
   "cell_type": "code",
   "execution_count": 16,
   "outputs": [],
   "source": [
    "DIMENSION_THLD = 8\n",
    "\n",
    "sns.set_theme(style=\"darkgrid\")"
   ],
   "metadata": {
    "collapsed": false,
    "pycharm": {
     "name": "#%%\n"
    }
   }
  },
  {
   "cell_type": "code",
   "execution_count": 17,
   "outputs": [
    {
     "data": {
      "text/plain": "        Time  Run          Type  Dimension   LogTime\n0   0.004807    1  HomeMade DCT          4 -2.318148\n1   0.040110    1  HomeMade DCT          5 -1.396746\n2   0.270744    1  HomeMade DCT          6 -0.567441\n3   2.001292    1  HomeMade DCT          7  0.301310\n4  16.371788    1  HomeMade DCT          8  1.214096",
      "text/html": "<div>\n<style scoped>\n    .dataframe tbody tr th:only-of-type {\n        vertical-align: middle;\n    }\n\n    .dataframe tbody tr th {\n        vertical-align: top;\n    }\n\n    .dataframe thead th {\n        text-align: right;\n    }\n</style>\n<table border=\"1\" class=\"dataframe\">\n  <thead>\n    <tr style=\"text-align: right;\">\n      <th></th>\n      <th>Time</th>\n      <th>Run</th>\n      <th>Type</th>\n      <th>Dimension</th>\n      <th>LogTime</th>\n    </tr>\n  </thead>\n  <tbody>\n    <tr>\n      <th>0</th>\n      <td>0.004807</td>\n      <td>1</td>\n      <td>HomeMade DCT</td>\n      <td>4</td>\n      <td>-2.318148</td>\n    </tr>\n    <tr>\n      <th>1</th>\n      <td>0.040110</td>\n      <td>1</td>\n      <td>HomeMade DCT</td>\n      <td>5</td>\n      <td>-1.396746</td>\n    </tr>\n    <tr>\n      <th>2</th>\n      <td>0.270744</td>\n      <td>1</td>\n      <td>HomeMade DCT</td>\n      <td>6</td>\n      <td>-0.567441</td>\n    </tr>\n    <tr>\n      <th>3</th>\n      <td>2.001292</td>\n      <td>1</td>\n      <td>HomeMade DCT</td>\n      <td>7</td>\n      <td>0.301310</td>\n    </tr>\n    <tr>\n      <th>4</th>\n      <td>16.371788</td>\n      <td>1</td>\n      <td>HomeMade DCT</td>\n      <td>8</td>\n      <td>1.214096</td>\n    </tr>\n  </tbody>\n</table>\n</div>"
     },
     "execution_count": 17,
     "metadata": {},
     "output_type": "execute_result"
    }
   ],
   "source": [
    "data = pd.read_pickle(os.path.join(\".\", \"out-dct\", \"data-result.pkl\"))\n",
    "data[\"LogTime\"] = data[\"Time\"].apply(np.log10)\n",
    "data.head()"
   ],
   "metadata": {
    "collapsed": false,
    "pycharm": {
     "name": "#%%\n"
    }
   }
  },
  {
   "cell_type": "code",
   "execution_count": 18,
   "outputs": [
    {
     "data": {
      "text/plain": "        Time  Run          Type  Dimension   LogTime\n0   0.004807    1  HomeMade DCT          4 -2.318148\n1   0.040110    1  HomeMade DCT          5 -1.396746\n2   0.270744    1  HomeMade DCT          6 -0.567441\n3   2.001292    1  HomeMade DCT          7  0.301310\n4  16.371788    1  HomeMade DCT          8  1.214096",
      "text/html": "<div>\n<style scoped>\n    .dataframe tbody tr th:only-of-type {\n        vertical-align: middle;\n    }\n\n    .dataframe tbody tr th {\n        vertical-align: top;\n    }\n\n    .dataframe thead th {\n        text-align: right;\n    }\n</style>\n<table border=\"1\" class=\"dataframe\">\n  <thead>\n    <tr style=\"text-align: right;\">\n      <th></th>\n      <th>Time</th>\n      <th>Run</th>\n      <th>Type</th>\n      <th>Dimension</th>\n      <th>LogTime</th>\n    </tr>\n  </thead>\n  <tbody>\n    <tr>\n      <th>0</th>\n      <td>0.004807</td>\n      <td>1</td>\n      <td>HomeMade DCT</td>\n      <td>4</td>\n      <td>-2.318148</td>\n    </tr>\n    <tr>\n      <th>1</th>\n      <td>0.040110</td>\n      <td>1</td>\n      <td>HomeMade DCT</td>\n      <td>5</td>\n      <td>-1.396746</td>\n    </tr>\n    <tr>\n      <th>2</th>\n      <td>0.270744</td>\n      <td>1</td>\n      <td>HomeMade DCT</td>\n      <td>6</td>\n      <td>-0.567441</td>\n    </tr>\n    <tr>\n      <th>3</th>\n      <td>2.001292</td>\n      <td>1</td>\n      <td>HomeMade DCT</td>\n      <td>7</td>\n      <td>0.301310</td>\n    </tr>\n    <tr>\n      <th>4</th>\n      <td>16.371788</td>\n      <td>1</td>\n      <td>HomeMade DCT</td>\n      <td>8</td>\n      <td>1.214096</td>\n    </tr>\n  </tbody>\n</table>\n</div>"
     },
     "execution_count": 18,
     "metadata": {},
     "output_type": "execute_result"
    }
   ],
   "source": [
    "valid_data = data.query(f'Dimension >= {DIMENSION_THLD} or Type == \"HomeMade DCT\"')\n",
    "valid_data.head()"
   ],
   "metadata": {
    "collapsed": false,
    "pycharm": {
     "name": "#%%\n"
    }
   }
  },
  {
   "cell_type": "code",
   "execution_count": 19,
   "outputs": [
    {
     "data": {
      "text/plain": "LinearRegression()"
     },
     "execution_count": 19,
     "metadata": {},
     "output_type": "execute_result"
    }
   ],
   "source": [
    "# Linear regression\n",
    "model = LinearRegression()\n",
    "x = np.array(valid_data.query('Type == \"Numpy FFT\"')[\"Run\"]).reshape(-1, 1)\n",
    "y = valid_data.query('Type == \"Numpy FFT\"')[\"LogTime\"]\n",
    "model.fit(x, y)"
   ],
   "metadata": {
    "collapsed": false,
    "pycharm": {
     "name": "#%%\n"
    }
   }
  },
  {
   "cell_type": "code",
   "execution_count": 24,
   "outputs": [],
   "source": [
    "q = model.intercept_\n",
    "m = model.coef_[0]"
   ],
   "metadata": {
    "collapsed": false,
    "pycharm": {
     "name": "#%%\n"
    }
   }
  },
  {
   "cell_type": "code",
   "execution_count": null,
   "outputs": [],
   "source": [
    "#data = data[data['Type'] == 'Numpy FFT']\n",
    "#g = sns.lineplot(data=data, x='Dimension', y='Time', hue=\"Type\")\n",
    "g = sns.catplot(data=valid_data, x='Dimension', y='Time', hue=\"Type\")\n",
    "g.set(yscale='log')\n",
    "plt.savefig(\"./images/plotdct2.png\")\n",
    "plt.show()"
   ],
   "metadata": {
    "collapsed": false,
    "pycharm": {
     "name": "#%%\n"
    }
   }
  }
 ],
 "metadata": {
  "kernelspec": {
   "display_name": "Python 3",
   "language": "python",
   "name": "python3"
  },
  "language_info": {
   "codemirror_mode": {
    "name": "ipython",
    "version": 2
   },
   "file_extension": ".py",
   "mimetype": "text/x-python",
   "name": "python",
   "nbconvert_exporter": "python",
   "pygments_lexer": "ipython2",
   "version": "2.7.6"
  }
 },
 "nbformat": 4,
 "nbformat_minor": 0
}